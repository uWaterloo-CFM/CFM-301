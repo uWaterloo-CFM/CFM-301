{
 "cells": [
  {
   "cell_type": "markdown",
   "id": "9db9ad1e-c507-4ec1-bdb7-18691c2561a7",
   "metadata": {},
   "source": [
    "# Data Assignment 1 - `t54zheng` (20939203)\n",
    "\n"
   ]
  },
  {
   "cell_type": "code",
   "execution_count": 258,
   "id": "59484399-69d9-44f9-8e23-772179489699",
   "metadata": {},
   "outputs": [],
   "source": [
    "import pandas as pd\n",
    "import scipy.stats as stats\n",
    "from math import sqrt\n",
    "import warnings\n",
    "warnings.filterwarnings('ignore')\n",
    "\n",
    "pd.options.plotting.backend = \"plotly\""
   ]
  },
  {
   "cell_type": "code",
   "execution_count": 137,
   "id": "a54f426b-b469-4825-8396-709e842aa9e5",
   "metadata": {},
   "outputs": [],
   "source": [
    "# Import raw data\n",
    "data_file = \"djreturns.xlsx\"\n",
    "\n",
    "dj27 = pd.read_excel(data_file, sheet_name=\"dj27\")\n",
    "individual_dj27_returns = pd.read_excel(data_file, sheet_name=\"returns\")\n",
    "sp500_returns = pd.read_excel(data_file, sheet_name=\"sp500\")"
   ]
  },
  {
   "cell_type": "markdown",
   "id": "39ac1ca0-7253-4cda-b37f-c619761f442b",
   "metadata": {},
   "source": [
    "## Task 2 - *Basic Statistics*\n",
    "\n",
    "For each of the 27 stocks in `dj27`, and the market return `sp500_returns`, we want to find these statistics on their returns:\n",
    "- The arithmetic mean\n",
    "- standard deviation\n",
    "- skewness\n",
    "- kurtosis"
   ]
  },
  {
   "cell_type": "code",
   "execution_count": 138,
   "id": "ead381c9-edfe-4624-9896-29f7040bab7e",
   "metadata": {},
   "outputs": [
    {
     "data": {
      "text/html": [
       "<div>\n",
       "<style scoped>\n",
       "    .dataframe tbody tr th:only-of-type {\n",
       "        vertical-align: middle;\n",
       "    }\n",
       "\n",
       "    .dataframe tbody tr th {\n",
       "        vertical-align: top;\n",
       "    }\n",
       "\n",
       "    .dataframe thead th {\n",
       "        text-align: right;\n",
       "    }\n",
       "</style>\n",
       "<table border=\"1\" class=\"dataframe\">\n",
       "  <thead>\n",
       "    <tr style=\"text-align: right;\">\n",
       "      <th></th>\n",
       "      <th>PERMNO</th>\n",
       "      <th>COMNAM</th>\n",
       "      <th>TICKER</th>\n",
       "    </tr>\n",
       "  </thead>\n",
       "  <tbody>\n",
       "    <tr>\n",
       "      <th>0</th>\n",
       "      <td>10107</td>\n",
       "      <td>MICROSOFT CORP</td>\n",
       "      <td>MSFT</td>\n",
       "    </tr>\n",
       "    <tr>\n",
       "      <th>1</th>\n",
       "      <td>10145</td>\n",
       "      <td>HONEYWELL INTERNATIONAL INC</td>\n",
       "      <td>HON</td>\n",
       "    </tr>\n",
       "    <tr>\n",
       "      <th>2</th>\n",
       "      <td>11308</td>\n",
       "      <td>COCA COLA CO</td>\n",
       "      <td>KO</td>\n",
       "    </tr>\n",
       "    <tr>\n",
       "      <th>3</th>\n",
       "      <td>12490</td>\n",
       "      <td>INTERNATIONAL BUSINESS MACHS COR</td>\n",
       "      <td>IBM</td>\n",
       "    </tr>\n",
       "    <tr>\n",
       "      <th>4</th>\n",
       "      <td>14008</td>\n",
       "      <td>AMGEN INC</td>\n",
       "      <td>AMGN</td>\n",
       "    </tr>\n",
       "  </tbody>\n",
       "</table>\n",
       "</div>"
      ],
      "text/plain": [
       "   PERMNO                            COMNAM TICKER\n",
       "0   10107                    MICROSOFT CORP   MSFT\n",
       "1   10145       HONEYWELL INTERNATIONAL INC    HON\n",
       "2   11308                      COCA COLA CO     KO\n",
       "3   12490  INTERNATIONAL BUSINESS MACHS COR    IBM\n",
       "4   14008                         AMGEN INC   AMGN"
      ]
     },
     "execution_count": 138,
     "metadata": {},
     "output_type": "execute_result"
    }
   ],
   "source": [
    "# Let's see what our data looks like\n",
    "dj27.head()"
   ]
  },
  {
   "cell_type": "code",
   "execution_count": 139,
   "id": "54320d1d-9a05-46ad-976a-3cc3e5330754",
   "metadata": {},
   "outputs": [
    {
     "data": {
      "text/html": [
       "<div>\n",
       "<style scoped>\n",
       "    .dataframe tbody tr th:only-of-type {\n",
       "        vertical-align: middle;\n",
       "    }\n",
       "\n",
       "    .dataframe tbody tr th {\n",
       "        vertical-align: top;\n",
       "    }\n",
       "\n",
       "    .dataframe thead th {\n",
       "        text-align: right;\n",
       "    }\n",
       "</style>\n",
       "<table border=\"1\" class=\"dataframe\">\n",
       "  <thead>\n",
       "    <tr style=\"text-align: right;\">\n",
       "      <th></th>\n",
       "      <th>PERMNO</th>\n",
       "      <th>DATE</th>\n",
       "      <th>COMNAM</th>\n",
       "      <th>TICKER</th>\n",
       "      <th>PRC</th>\n",
       "      <th>RET</th>\n",
       "      <th>SHROUT</th>\n",
       "    </tr>\n",
       "  </thead>\n",
       "  <tbody>\n",
       "    <tr>\n",
       "      <th>0</th>\n",
       "      <td>10107</td>\n",
       "      <td>2000-01-31</td>\n",
       "      <td>MICROSOFT CORP</td>\n",
       "      <td>MSFT</td>\n",
       "      <td>97.8750</td>\n",
       "      <td>-0.161670</td>\n",
       "      <td>5160025</td>\n",
       "    </tr>\n",
       "    <tr>\n",
       "      <th>1</th>\n",
       "      <td>10107</td>\n",
       "      <td>2000-02-29</td>\n",
       "      <td>MICROSOFT CORP</td>\n",
       "      <td>MSFT</td>\n",
       "      <td>89.3750</td>\n",
       "      <td>-0.086845</td>\n",
       "      <td>5160025</td>\n",
       "    </tr>\n",
       "    <tr>\n",
       "      <th>2</th>\n",
       "      <td>10107</td>\n",
       "      <td>2000-03-31</td>\n",
       "      <td>MICROSOFT CORP</td>\n",
       "      <td>MSFT</td>\n",
       "      <td>106.2500</td>\n",
       "      <td>0.188811</td>\n",
       "      <td>5242000</td>\n",
       "    </tr>\n",
       "    <tr>\n",
       "      <th>3</th>\n",
       "      <td>10107</td>\n",
       "      <td>2000-04-28</td>\n",
       "      <td>MICROSOFT CORP</td>\n",
       "      <td>MSFT</td>\n",
       "      <td>69.7500</td>\n",
       "      <td>-0.343529</td>\n",
       "      <td>5262405</td>\n",
       "    </tr>\n",
       "    <tr>\n",
       "      <th>4</th>\n",
       "      <td>10107</td>\n",
       "      <td>2000-05-31</td>\n",
       "      <td>MICROSOFT CORP</td>\n",
       "      <td>MSFT</td>\n",
       "      <td>62.5625</td>\n",
       "      <td>-0.103047</td>\n",
       "      <td>5262405</td>\n",
       "    </tr>\n",
       "  </tbody>\n",
       "</table>\n",
       "</div>"
      ],
      "text/plain": [
       "   PERMNO       DATE          COMNAM TICKER       PRC       RET   SHROUT\n",
       "0   10107 2000-01-31  MICROSOFT CORP   MSFT   97.8750 -0.161670  5160025\n",
       "1   10107 2000-02-29  MICROSOFT CORP   MSFT   89.3750 -0.086845  5160025\n",
       "2   10107 2000-03-31  MICROSOFT CORP   MSFT  106.2500  0.188811  5242000\n",
       "3   10107 2000-04-28  MICROSOFT CORP   MSFT   69.7500 -0.343529  5262405\n",
       "4   10107 2000-05-31  MICROSOFT CORP   MSFT   62.5625 -0.103047  5262405"
      ]
     },
     "execution_count": 139,
     "metadata": {},
     "output_type": "execute_result"
    }
   ],
   "source": [
    "individual_dj27_returns.head()"
   ]
  },
  {
   "cell_type": "code",
   "execution_count": 140,
   "id": "20ea3e16-fdc7-4f4b-9c09-a181f8a63c8f",
   "metadata": {},
   "outputs": [
    {
     "data": {
      "text/html": [
       "<div>\n",
       "<style scoped>\n",
       "    .dataframe tbody tr th:only-of-type {\n",
       "        vertical-align: middle;\n",
       "    }\n",
       "\n",
       "    .dataframe tbody tr th {\n",
       "        vertical-align: top;\n",
       "    }\n",
       "\n",
       "    .dataframe thead th {\n",
       "        text-align: right;\n",
       "    }\n",
       "</style>\n",
       "<table border=\"1\" class=\"dataframe\">\n",
       "  <thead>\n",
       "    <tr style=\"text-align: right;\">\n",
       "      <th></th>\n",
       "      <th>COMNAM</th>\n",
       "    </tr>\n",
       "    <tr>\n",
       "      <th>PERMNO</th>\n",
       "      <th></th>\n",
       "    </tr>\n",
       "  </thead>\n",
       "  <tbody>\n",
       "    <tr>\n",
       "      <th>10107</th>\n",
       "      <td>[MICROSOFT CORP]</td>\n",
       "    </tr>\n",
       "    <tr>\n",
       "      <th>10145</th>\n",
       "      <td>[HONEYWELL INTERNATIONAL INC]</td>\n",
       "    </tr>\n",
       "    <tr>\n",
       "      <th>11308</th>\n",
       "      <td>[COCA COLA CO]</td>\n",
       "    </tr>\n",
       "    <tr>\n",
       "      <th>12490</th>\n",
       "      <td>[INTERNATIONAL BUSINESS MACHS COR]</td>\n",
       "    </tr>\n",
       "    <tr>\n",
       "      <th>14008</th>\n",
       "      <td>[AMGEN INC]</td>\n",
       "    </tr>\n",
       "    <tr>\n",
       "      <th>14541</th>\n",
       "      <td>[CHEVRON CORP, CHEVRONTEXACO CORP, CHEVRON COR...</td>\n",
       "    </tr>\n",
       "    <tr>\n",
       "      <th>14593</th>\n",
       "      <td>[APPLE COMPUTER INC, APPLE INC]</td>\n",
       "    </tr>\n",
       "    <tr>\n",
       "      <th>18163</th>\n",
       "      <td>[PROCTER &amp; GAMBLE CO]</td>\n",
       "    </tr>\n",
       "    <tr>\n",
       "      <th>18542</th>\n",
       "      <td>[CATERPILLAR INC]</td>\n",
       "    </tr>\n",
       "    <tr>\n",
       "      <th>19502</th>\n",
       "      <td>[WALGREEN CO, WALGREENS BOOTS ALLIANCE INC]</td>\n",
       "    </tr>\n",
       "    <tr>\n",
       "      <th>19561</th>\n",
       "      <td>[BOEING CO]</td>\n",
       "    </tr>\n",
       "    <tr>\n",
       "      <th>22111</th>\n",
       "      <td>[JOHNSON &amp; JOHNSON]</td>\n",
       "    </tr>\n",
       "    <tr>\n",
       "      <th>22592</th>\n",
       "      <td>[MINNESOTA MINING &amp; MFG CO, 3M CO]</td>\n",
       "    </tr>\n",
       "    <tr>\n",
       "      <th>22752</th>\n",
       "      <td>[MERCK &amp; CO INC, MERCK &amp; CO INC NEW]</td>\n",
       "    </tr>\n",
       "    <tr>\n",
       "      <th>26403</th>\n",
       "      <td>[DISNEY WALT CO]</td>\n",
       "    </tr>\n",
       "    <tr>\n",
       "      <th>43449</th>\n",
       "      <td>[MCDONALDS CORP]</td>\n",
       "    </tr>\n",
       "    <tr>\n",
       "      <th>47896</th>\n",
       "      <td>[CHASE MANHATTAN CORP NEW, J P MORGAN CHASE &amp; ...</td>\n",
       "    </tr>\n",
       "    <tr>\n",
       "      <th>55976</th>\n",
       "      <td>[WAL MART STORES INC, WALMART INC]</td>\n",
       "    </tr>\n",
       "    <tr>\n",
       "      <th>57665</th>\n",
       "      <td>[NIKE INC]</td>\n",
       "    </tr>\n",
       "    <tr>\n",
       "      <th>59176</th>\n",
       "      <td>[AMERICAN EXPRESS CO]</td>\n",
       "    </tr>\n",
       "    <tr>\n",
       "      <th>59328</th>\n",
       "      <td>[INTEL CORP]</td>\n",
       "    </tr>\n",
       "    <tr>\n",
       "      <th>59459</th>\n",
       "      <td>[ST PAUL COS INC, ST PAUL TRAVELERS COS INC, T...</td>\n",
       "    </tr>\n",
       "    <tr>\n",
       "      <th>65875</th>\n",
       "      <td>[BELL ATLANTIC CORP, VERIZON COMMUNICATIONS INC]</td>\n",
       "    </tr>\n",
       "    <tr>\n",
       "      <th>66181</th>\n",
       "      <td>[HOME DEPOT INC]</td>\n",
       "    </tr>\n",
       "    <tr>\n",
       "      <th>76076</th>\n",
       "      <td>[CISCO SYSTEMS INC]</td>\n",
       "    </tr>\n",
       "    <tr>\n",
       "      <th>86868</th>\n",
       "      <td>[GOLDMAN SACHS GROUP INC]</td>\n",
       "    </tr>\n",
       "    <tr>\n",
       "      <th>92655</th>\n",
       "      <td>[UNITED HEALTHCARE CORP, UNITEDHEALTH GROUP INC]</td>\n",
       "    </tr>\n",
       "  </tbody>\n",
       "</table>\n",
       "</div>"
      ],
      "text/plain": [
       "                                                   COMNAM\n",
       "PERMNO                                                   \n",
       "10107                                    [MICROSOFT CORP]\n",
       "10145                       [HONEYWELL INTERNATIONAL INC]\n",
       "11308                                      [COCA COLA CO]\n",
       "12490                  [INTERNATIONAL BUSINESS MACHS COR]\n",
       "14008                                         [AMGEN INC]\n",
       "14541   [CHEVRON CORP, CHEVRONTEXACO CORP, CHEVRON COR...\n",
       "14593                     [APPLE COMPUTER INC, APPLE INC]\n",
       "18163                               [PROCTER & GAMBLE CO]\n",
       "18542                                   [CATERPILLAR INC]\n",
       "19502         [WALGREEN CO, WALGREENS BOOTS ALLIANCE INC]\n",
       "19561                                         [BOEING CO]\n",
       "22111                                 [JOHNSON & JOHNSON]\n",
       "22592                  [MINNESOTA MINING & MFG CO, 3M CO]\n",
       "22752                [MERCK & CO INC, MERCK & CO INC NEW]\n",
       "26403                                    [DISNEY WALT CO]\n",
       "43449                                    [MCDONALDS CORP]\n",
       "47896   [CHASE MANHATTAN CORP NEW, J P MORGAN CHASE & ...\n",
       "55976                  [WAL MART STORES INC, WALMART INC]\n",
       "57665                                          [NIKE INC]\n",
       "59176                               [AMERICAN EXPRESS CO]\n",
       "59328                                        [INTEL CORP]\n",
       "59459   [ST PAUL COS INC, ST PAUL TRAVELERS COS INC, T...\n",
       "65875    [BELL ATLANTIC CORP, VERIZON COMMUNICATIONS INC]\n",
       "66181                                    [HOME DEPOT INC]\n",
       "76076                                 [CISCO SYSTEMS INC]\n",
       "86868                           [GOLDMAN SACHS GROUP INC]\n",
       "92655    [UNITED HEALTHCARE CORP, UNITEDHEALTH GROUP INC]"
      ]
     },
     "execution_count": 140,
     "metadata": {},
     "output_type": "execute_result"
    }
   ],
   "source": [
    "# We need to group the data in individual_dj27_returns based on stock.\n",
    "# Note that using PERMNO is a better idea since COMNAM can change.\n",
    "\n",
    "# Let's show that our data actually has this issue:\n",
    "duplicate_comnam_df = individual_dj27_returns[[\"PERMNO\", \"COMNAM\"]].drop_duplicates().groupby(\"PERMNO\").agg({'COMNAM': lambda x: list(x)})\n",
    "duplicate_comnam_df"
   ]
  },
  {
   "cell_type": "markdown",
   "id": "9514cf7e-7757-46f4-9caa-f9f7baffa1fa",
   "metadata": {},
   "source": [
    "We see many securities have multiple comnames as they have changed their company name over the period of the data, but PERMNO remains the same."
   ]
  },
  {
   "cell_type": "code",
   "execution_count": 141,
   "id": "389dc4de-3e77-4c9d-9593-ea758f3e58c2",
   "metadata": {},
   "outputs": [],
   "source": [
    "# So let's make a new dataframe for each PERMNO we have in dj27, and store them in a dict by PERMNO.\n",
    "returns_dict = {} # permno -> dataframe(permno_returns)\n",
    "permnos = dj27[\"PERMNO\"]\n",
    "for permno in permnos:\n",
    "    returns_df = individual_dj27_returns[individual_dj27_returns[\"PERMNO\"] == permno]\n",
    "    returns_dict[permno] = returns_df"
   ]
  },
  {
   "cell_type": "code",
   "execution_count": 169,
   "id": "62400105-2b97-4e52-b3a5-7b752f0d4820",
   "metadata": {},
   "outputs": [
    {
     "data": {
      "text/html": [
       "<div>\n",
       "<style scoped>\n",
       "    .dataframe tbody tr th:only-of-type {\n",
       "        vertical-align: middle;\n",
       "    }\n",
       "\n",
       "    .dataframe tbody tr th {\n",
       "        vertical-align: top;\n",
       "    }\n",
       "\n",
       "    .dataframe thead th {\n",
       "        text-align: right;\n",
       "    }\n",
       "</style>\n",
       "<table border=\"1\" class=\"dataframe\">\n",
       "  <thead>\n",
       "    <tr style=\"text-align: right;\">\n",
       "      <th></th>\n",
       "      <th>permno</th>\n",
       "      <th>Common Name(s)</th>\n",
       "      <th>Mean (%)</th>\n",
       "      <th>Standard Deviation (%)</th>\n",
       "      <th>Skewness</th>\n",
       "      <th>Kurtosis</th>\n",
       "    </tr>\n",
       "  </thead>\n",
       "  <tbody>\n",
       "    <tr>\n",
       "      <th>0</th>\n",
       "      <td>market</td>\n",
       "      <td>[Market]</td>\n",
       "      <td>6.6994</td>\n",
       "      <td>23.2074</td>\n",
       "      <td>-0.5312</td>\n",
       "      <td>1.0848</td>\n",
       "    </tr>\n",
       "    <tr>\n",
       "      <th>1</th>\n",
       "      <td>10107</td>\n",
       "      <td>[MICROSOFT CORP]</td>\n",
       "      <td>15.0657</td>\n",
       "      <td>52.1892</td>\n",
       "      <td>0.2160</td>\n",
       "      <td>3.3232</td>\n",
       "    </tr>\n",
       "    <tr>\n",
       "      <th>2</th>\n",
       "      <td>10145</td>\n",
       "      <td>[HONEYWELL INTERNATIONAL INC]</td>\n",
       "      <td>13.3002</td>\n",
       "      <td>46.0731</td>\n",
       "      <td>-0.1321</td>\n",
       "      <td>7.7921</td>\n",
       "    </tr>\n",
       "    <tr>\n",
       "      <th>3</th>\n",
       "      <td>11308</td>\n",
       "      <td>[COCA COLA CO]</td>\n",
       "      <td>7.7935</td>\n",
       "      <td>26.9976</td>\n",
       "      <td>-0.5014</td>\n",
       "      <td>1.1777</td>\n",
       "    </tr>\n",
       "    <tr>\n",
       "      <th>4</th>\n",
       "      <td>12490</td>\n",
       "      <td>[INTERNATIONAL BUSINESS MACHS COR]</td>\n",
       "      <td>6.7402</td>\n",
       "      <td>23.3487</td>\n",
       "      <td>0.4121</td>\n",
       "      <td>3.5562</td>\n",
       "    </tr>\n",
       "    <tr>\n",
       "      <th>5</th>\n",
       "      <td>14008</td>\n",
       "      <td>[AMGEN INC]</td>\n",
       "      <td>10.8301</td>\n",
       "      <td>37.5167</td>\n",
       "      <td>0.5216</td>\n",
       "      <td>1.8024</td>\n",
       "    </tr>\n",
       "    <tr>\n",
       "      <th>6</th>\n",
       "      <td>14541</td>\n",
       "      <td>[CHEVRON CORP, CHEVRONTEXACO CORP, CHEVRON COR...</td>\n",
       "      <td>11.2896</td>\n",
       "      <td>39.1084</td>\n",
       "      <td>0.4071</td>\n",
       "      <td>2.2700</td>\n",
       "    </tr>\n",
       "    <tr>\n",
       "      <th>7</th>\n",
       "      <td>14593</td>\n",
       "      <td>[APPLE COMPUTER INC, APPLE INC]</td>\n",
       "      <td>38.8050</td>\n",
       "      <td>134.4243</td>\n",
       "      <td>-0.6328</td>\n",
       "      <td>3.4377</td>\n",
       "    </tr>\n",
       "    <tr>\n",
       "      <th>8</th>\n",
       "      <td>18163</td>\n",
       "      <td>[PROCTER &amp; GAMBLE CO]</td>\n",
       "      <td>9.7256</td>\n",
       "      <td>33.6905</td>\n",
       "      <td>-1.5059</td>\n",
       "      <td>9.1691</td>\n",
       "    </tr>\n",
       "    <tr>\n",
       "      <th>9</th>\n",
       "      <td>18542</td>\n",
       "      <td>[CATERPILLAR INC]</td>\n",
       "      <td>18.7792</td>\n",
       "      <td>65.0532</td>\n",
       "      <td>-0.0672</td>\n",
       "      <td>1.9528</td>\n",
       "    </tr>\n",
       "    <tr>\n",
       "      <th>10</th>\n",
       "      <td>19502</td>\n",
       "      <td>[WALGREEN CO, WALGREENS BOOTS ALLIANCE INC]</td>\n",
       "      <td>7.9954</td>\n",
       "      <td>27.6968</td>\n",
       "      <td>0.3525</td>\n",
       "      <td>0.6884</td>\n",
       "    </tr>\n",
       "    <tr>\n",
       "      <th>11</th>\n",
       "      <td>19561</td>\n",
       "      <td>[BOEING CO]</td>\n",
       "      <td>15.4698</td>\n",
       "      <td>53.5890</td>\n",
       "      <td>-0.3100</td>\n",
       "      <td>4.4419</td>\n",
       "    </tr>\n",
       "    <tr>\n",
       "      <th>12</th>\n",
       "      <td>22111</td>\n",
       "      <td>[JOHNSON &amp; JOHNSON]</td>\n",
       "      <td>10.3132</td>\n",
       "      <td>35.7260</td>\n",
       "      <td>-0.1827</td>\n",
       "      <td>1.2589</td>\n",
       "    </tr>\n",
       "    <tr>\n",
       "      <th>13</th>\n",
       "      <td>22592</td>\n",
       "      <td>[MINNESOTA MINING &amp; MFG CO, 3M CO]</td>\n",
       "      <td>10.9276</td>\n",
       "      <td>37.8542</td>\n",
       "      <td>-0.0241</td>\n",
       "      <td>0.6147</td>\n",
       "    </tr>\n",
       "    <tr>\n",
       "      <th>14</th>\n",
       "      <td>22752</td>\n",
       "      <td>[MERCK &amp; CO INC, MERCK &amp; CO INC NEW]</td>\n",
       "      <td>7.6735</td>\n",
       "      <td>26.5818</td>\n",
       "      <td>-0.2514</td>\n",
       "      <td>1.2391</td>\n",
       "    </tr>\n",
       "    <tr>\n",
       "      <th>15</th>\n",
       "      <td>26403</td>\n",
       "      <td>[DISNEY WALT CO]</td>\n",
       "      <td>12.7761</td>\n",
       "      <td>44.2578</td>\n",
       "      <td>0.0230</td>\n",
       "      <td>1.5061</td>\n",
       "    </tr>\n",
       "    <tr>\n",
       "      <th>16</th>\n",
       "      <td>43449</td>\n",
       "      <td>[MCDONALDS CORP]</td>\n",
       "      <td>13.8483</td>\n",
       "      <td>47.9720</td>\n",
       "      <td>-0.4927</td>\n",
       "      <td>2.3420</td>\n",
       "    </tr>\n",
       "    <tr>\n",
       "      <th>17</th>\n",
       "      <td>47896</td>\n",
       "      <td>[CHASE MANHATTAN CORP NEW, J P MORGAN CHASE &amp; ...</td>\n",
       "      <td>13.2342</td>\n",
       "      <td>45.8445</td>\n",
       "      <td>-0.2393</td>\n",
       "      <td>1.2052</td>\n",
       "    </tr>\n",
       "    <tr>\n",
       "      <th>18</th>\n",
       "      <td>55976</td>\n",
       "      <td>[WAL MART STORES INC, WALMART INC]</td>\n",
       "      <td>7.1869</td>\n",
       "      <td>24.8960</td>\n",
       "      <td>-0.2615</td>\n",
       "      <td>1.0940</td>\n",
       "    </tr>\n",
       "    <tr>\n",
       "      <th>19</th>\n",
       "      <td>57665</td>\n",
       "      <td>[NIKE INC]</td>\n",
       "      <td>21.7077</td>\n",
       "      <td>75.1976</td>\n",
       "      <td>-0.1516</td>\n",
       "      <td>5.4126</td>\n",
       "    </tr>\n",
       "    <tr>\n",
       "      <th>20</th>\n",
       "      <td>59176</td>\n",
       "      <td>[AMERICAN EXPRESS CO]</td>\n",
       "      <td>12.0239</td>\n",
       "      <td>41.6520</td>\n",
       "      <td>2.7544</td>\n",
       "      <td>28.2196</td>\n",
       "    </tr>\n",
       "    <tr>\n",
       "      <th>21</th>\n",
       "      <td>59328</td>\n",
       "      <td>[INTEL CORP]</td>\n",
       "      <td>9.4044</td>\n",
       "      <td>32.5776</td>\n",
       "      <td>-0.5314</td>\n",
       "      <td>2.5265</td>\n",
       "    </tr>\n",
       "    <tr>\n",
       "      <th>22</th>\n",
       "      <td>59459</td>\n",
       "      <td>[ST PAUL COS INC, ST PAUL TRAVELERS COS INC, T...</td>\n",
       "      <td>13.1408</td>\n",
       "      <td>45.5210</td>\n",
       "      <td>1.4414</td>\n",
       "      <td>12.2851</td>\n",
       "    </tr>\n",
       "    <tr>\n",
       "      <th>23</th>\n",
       "      <td>65875</td>\n",
       "      <td>[BELL ATLANTIC CORP, VERIZON COMMUNICATIONS INC]</td>\n",
       "      <td>6.7364</td>\n",
       "      <td>23.3354</td>\n",
       "      <td>0.8691</td>\n",
       "      <td>5.4723</td>\n",
       "    </tr>\n",
       "    <tr>\n",
       "      <th>24</th>\n",
       "      <td>66181</td>\n",
       "      <td>[HOME DEPOT INC]</td>\n",
       "      <td>14.1707</td>\n",
       "      <td>49.0887</td>\n",
       "      <td>-0.1937</td>\n",
       "      <td>0.4112</td>\n",
       "    </tr>\n",
       "    <tr>\n",
       "      <th>25</th>\n",
       "      <td>76076</td>\n",
       "      <td>[CISCO SYSTEMS INC]</td>\n",
       "      <td>8.1590</td>\n",
       "      <td>28.2636</td>\n",
       "      <td>-0.1928</td>\n",
       "      <td>2.1937</td>\n",
       "    </tr>\n",
       "    <tr>\n",
       "      <th>26</th>\n",
       "      <td>86868</td>\n",
       "      <td>[GOLDMAN SACHS GROUP INC]</td>\n",
       "      <td>13.3869</td>\n",
       "      <td>46.3736</td>\n",
       "      <td>0.1206</td>\n",
       "      <td>0.7386</td>\n",
       "    </tr>\n",
       "    <tr>\n",
       "      <th>27</th>\n",
       "      <td>92655</td>\n",
       "      <td>[UNITED HEALTHCARE CORP, UNITEDHEALTH GROUP INC]</td>\n",
       "      <td>26.4831</td>\n",
       "      <td>91.7400</td>\n",
       "      <td>-0.6224</td>\n",
       "      <td>2.6404</td>\n",
       "    </tr>\n",
       "  </tbody>\n",
       "</table>\n",
       "</div>"
      ],
      "text/plain": [
       "    permno                                     Common Name(s)  Mean (%)  \\\n",
       "0   market                                           [Market]    6.6994   \n",
       "1    10107                                   [MICROSOFT CORP]   15.0657   \n",
       "2    10145                      [HONEYWELL INTERNATIONAL INC]   13.3002   \n",
       "3    11308                                     [COCA COLA CO]    7.7935   \n",
       "4    12490                 [INTERNATIONAL BUSINESS MACHS COR]    6.7402   \n",
       "5    14008                                        [AMGEN INC]   10.8301   \n",
       "6    14541  [CHEVRON CORP, CHEVRONTEXACO CORP, CHEVRON COR...   11.2896   \n",
       "7    14593                    [APPLE COMPUTER INC, APPLE INC]   38.8050   \n",
       "8    18163                              [PROCTER & GAMBLE CO]    9.7256   \n",
       "9    18542                                  [CATERPILLAR INC]   18.7792   \n",
       "10   19502        [WALGREEN CO, WALGREENS BOOTS ALLIANCE INC]    7.9954   \n",
       "11   19561                                        [BOEING CO]   15.4698   \n",
       "12   22111                                [JOHNSON & JOHNSON]   10.3132   \n",
       "13   22592                 [MINNESOTA MINING & MFG CO, 3M CO]   10.9276   \n",
       "14   22752               [MERCK & CO INC, MERCK & CO INC NEW]    7.6735   \n",
       "15   26403                                   [DISNEY WALT CO]   12.7761   \n",
       "16   43449                                   [MCDONALDS CORP]   13.8483   \n",
       "17   47896  [CHASE MANHATTAN CORP NEW, J P MORGAN CHASE & ...   13.2342   \n",
       "18   55976                 [WAL MART STORES INC, WALMART INC]    7.1869   \n",
       "19   57665                                         [NIKE INC]   21.7077   \n",
       "20   59176                              [AMERICAN EXPRESS CO]   12.0239   \n",
       "21   59328                                       [INTEL CORP]    9.4044   \n",
       "22   59459  [ST PAUL COS INC, ST PAUL TRAVELERS COS INC, T...   13.1408   \n",
       "23   65875   [BELL ATLANTIC CORP, VERIZON COMMUNICATIONS INC]    6.7364   \n",
       "24   66181                                   [HOME DEPOT INC]   14.1707   \n",
       "25   76076                                [CISCO SYSTEMS INC]    8.1590   \n",
       "26   86868                          [GOLDMAN SACHS GROUP INC]   13.3869   \n",
       "27   92655   [UNITED HEALTHCARE CORP, UNITEDHEALTH GROUP INC]   26.4831   \n",
       "\n",
       "    Standard Deviation (%)  Skewness  Kurtosis  \n",
       "0                  23.2074   -0.5312    1.0848  \n",
       "1                  52.1892    0.2160    3.3232  \n",
       "2                  46.0731   -0.1321    7.7921  \n",
       "3                  26.9976   -0.5014    1.1777  \n",
       "4                  23.3487    0.4121    3.5562  \n",
       "5                  37.5167    0.5216    1.8024  \n",
       "6                  39.1084    0.4071    2.2700  \n",
       "7                 134.4243   -0.6328    3.4377  \n",
       "8                  33.6905   -1.5059    9.1691  \n",
       "9                  65.0532   -0.0672    1.9528  \n",
       "10                 27.6968    0.3525    0.6884  \n",
       "11                 53.5890   -0.3100    4.4419  \n",
       "12                 35.7260   -0.1827    1.2589  \n",
       "13                 37.8542   -0.0241    0.6147  \n",
       "14                 26.5818   -0.2514    1.2391  \n",
       "15                 44.2578    0.0230    1.5061  \n",
       "16                 47.9720   -0.4927    2.3420  \n",
       "17                 45.8445   -0.2393    1.2052  \n",
       "18                 24.8960   -0.2615    1.0940  \n",
       "19                 75.1976   -0.1516    5.4126  \n",
       "20                 41.6520    2.7544   28.2196  \n",
       "21                 32.5776   -0.5314    2.5265  \n",
       "22                 45.5210    1.4414   12.2851  \n",
       "23                 23.3354    0.8691    5.4723  \n",
       "24                 49.0887   -0.1937    0.4112  \n",
       "25                 28.2636   -0.1928    2.1937  \n",
       "26                 46.3736    0.1206    0.7386  \n",
       "27                 91.7400   -0.6224    2.6404  "
      ]
     },
     "execution_count": 169,
     "metadata": {},
     "output_type": "execute_result"
    }
   ],
   "source": [
    "# Now that we have our data nicely organized, let's make a new dataframe to present our statistics\n",
    "# We'll have every row describes the statistics for each return\n",
    "\n",
    "stats_df = pd.DataFrame(columns=[\"permno\", \"Common Name(s)\", \"Mean (%)\", \"Standard Deviation (%)\", \"Skewness\", \"Kurtosis\"])\n",
    "\n",
    "# First add the stats for the market portfolio\n",
    "market_stats = {\n",
    "    \"permno\": \"market\",\n",
    "    \"Common Name(s)\": [\"Market\"], \n",
    "    \"Mean (%)\": sp500_returns[\"SPRTRN\"].mean(),\n",
    "    \"Standard Deviation (%)\": sp500_returns[\"SPRTRN\"].std(),\n",
    "    \"Skewness\": stats.skew(sp500_returns[\"SPRTRN\"]),\n",
    "    \"Kurtosis\": stats.kurtosis(sp500_returns[\"SPRTRN\"])\n",
    "    }\n",
    "\n",
    "stats_df = stats_df.append(market_stats, ignore_index=True)\n",
    "\n",
    "# Now we'll add the rest of the securities from dj27\n",
    "duplicate_comnam_dict = duplicate_comnam_df.to_dict()['COMNAM']\n",
    "\n",
    "for permno, df in returns_dict.items():\n",
    "    permno_stats = {\n",
    "        \"permno\": permno,\n",
    "        \"Common Name(s)\": duplicate_comnam_dict[permno], \n",
    "        \"Mean (%)\": df[\"RET\"].mean(),\n",
    "        \"Standard Deviation (%)\": df[\"RET\"].std(),\n",
    "        \"Skewness\": stats.skew(df[\"RET\"]),\n",
    "        \"Kurtosis\": stats.kurtosis(df[\"RET\"])\n",
    "    }\n",
    "    stats_df = stats_df.append(permno_stats, ignore_index=True)\n",
    "\n",
    "# Now we need to annualize the mean and standard deviation of the returns (currently monthly)\n",
    "stats_df[\"Mean (%)\"] = (1 + stats_df[\"Mean (%)\"]) ** 12 - 1\n",
    "stats_df[\"Standard Deviation (%)\"] = stats_df[\"Mean (%)\"] * sqrt(12) # Annualizing stdev\n",
    "\n",
    "# Format the results\n",
    "stats_df[\"Mean (%)\"] *= 100\n",
    "stats_df[\"Standard Deviation (%)\"] *= 100\n",
    "\n",
    "# Round to 4 decimal places\n",
    "stats_df = stats_df.round(4)\n",
    "stats_df"
   ]
  },
  {
   "cell_type": "code",
   "execution_count": 175,
   "id": "e434b8b8-2c1a-4dca-9b1d-383ef938e9c2",
   "metadata": {},
   "outputs": [
    {
     "data": {
      "text/html": [
       "<div>\n",
       "<style scoped>\n",
       "    .dataframe tbody tr th:only-of-type {\n",
       "        vertical-align: middle;\n",
       "    }\n",
       "\n",
       "    .dataframe tbody tr th {\n",
       "        vertical-align: top;\n",
       "    }\n",
       "\n",
       "    .dataframe thead th {\n",
       "        text-align: right;\n",
       "    }\n",
       "</style>\n",
       "<table border=\"1\" class=\"dataframe\">\n",
       "  <thead>\n",
       "    <tr style=\"text-align: right;\">\n",
       "      <th></th>\n",
       "      <th>permno</th>\n",
       "      <th>Common Name(s)</th>\n",
       "      <th>Mean (%)</th>\n",
       "      <th>Standard Deviation (%)</th>\n",
       "      <th>Skewness</th>\n",
       "      <th>Kurtosis</th>\n",
       "    </tr>\n",
       "  </thead>\n",
       "  <tbody>\n",
       "    <tr>\n",
       "      <th>0</th>\n",
       "      <td>market</td>\n",
       "      <td>[Market]</td>\n",
       "      <td>6.6994</td>\n",
       "      <td>23.2074</td>\n",
       "      <td>-0.5312</td>\n",
       "      <td>1.0848</td>\n",
       "    </tr>\n",
       "  </tbody>\n",
       "</table>\n",
       "</div>"
      ],
      "text/plain": [
       "   permno Common Name(s)  Mean (%)  Standard Deviation (%)  Skewness  Kurtosis\n",
       "0  market       [Market]    6.6994                 23.2074   -0.5312    1.0848"
      ]
     },
     "execution_count": 175,
     "metadata": {},
     "output_type": "execute_result"
    }
   ],
   "source": [
    "# The market portfolio\n",
    "stats_df[stats_df[\"permno\"] == \"market\"]"
   ]
  },
  {
   "cell_type": "markdown",
   "id": "bf897225-4c61-4563-8b8d-285728bdfe2a",
   "metadata": {},
   "source": [
    "### Statistics of the market portfolio\n",
    "\n",
    "- TODO: Comment on skewness and kurtosis of the market return vs a normal dist"
   ]
  },
  {
   "cell_type": "code",
   "execution_count": 179,
   "id": "7b6e8740-f1f6-4dda-906a-3e6edaeab478",
   "metadata": {},
   "outputs": [
    {
     "data": {
      "text/html": [
       "<div>\n",
       "<style scoped>\n",
       "    .dataframe tbody tr th:only-of-type {\n",
       "        vertical-align: middle;\n",
       "    }\n",
       "\n",
       "    .dataframe tbody tr th {\n",
       "        vertical-align: top;\n",
       "    }\n",
       "\n",
       "    .dataframe thead th {\n",
       "        text-align: right;\n",
       "    }\n",
       "</style>\n",
       "<table border=\"1\" class=\"dataframe\">\n",
       "  <thead>\n",
       "    <tr style=\"text-align: right;\">\n",
       "      <th></th>\n",
       "      <th>PERMNO</th>\n",
       "      <th>DATE</th>\n",
       "      <th>COMNAM</th>\n",
       "      <th>TICKER</th>\n",
       "      <th>PRC</th>\n",
       "      <th>RET</th>\n",
       "      <th>SHROUT</th>\n",
       "    </tr>\n",
       "  </thead>\n",
       "  <tbody>\n",
       "    <tr>\n",
       "      <th>0</th>\n",
       "      <td>10107</td>\n",
       "      <td>2000-01-31</td>\n",
       "      <td>MICROSOFT CORP</td>\n",
       "      <td>MSFT</td>\n",
       "      <td>97.875000</td>\n",
       "      <td>-0.161670</td>\n",
       "      <td>5160025</td>\n",
       "    </tr>\n",
       "    <tr>\n",
       "      <th>1</th>\n",
       "      <td>10107</td>\n",
       "      <td>2000-02-29</td>\n",
       "      <td>MICROSOFT CORP</td>\n",
       "      <td>MSFT</td>\n",
       "      <td>89.375000</td>\n",
       "      <td>-0.086845</td>\n",
       "      <td>5160025</td>\n",
       "    </tr>\n",
       "    <tr>\n",
       "      <th>2</th>\n",
       "      <td>10107</td>\n",
       "      <td>2000-03-31</td>\n",
       "      <td>MICROSOFT CORP</td>\n",
       "      <td>MSFT</td>\n",
       "      <td>106.250000</td>\n",
       "      <td>0.188811</td>\n",
       "      <td>5242000</td>\n",
       "    </tr>\n",
       "    <tr>\n",
       "      <th>3</th>\n",
       "      <td>10107</td>\n",
       "      <td>2000-04-28</td>\n",
       "      <td>MICROSOFT CORP</td>\n",
       "      <td>MSFT</td>\n",
       "      <td>69.750000</td>\n",
       "      <td>-0.343529</td>\n",
       "      <td>5262405</td>\n",
       "    </tr>\n",
       "    <tr>\n",
       "      <th>4</th>\n",
       "      <td>10107</td>\n",
       "      <td>2000-05-31</td>\n",
       "      <td>MICROSOFT CORP</td>\n",
       "      <td>MSFT</td>\n",
       "      <td>62.562500</td>\n",
       "      <td>-0.103047</td>\n",
       "      <td>5262405</td>\n",
       "    </tr>\n",
       "    <tr>\n",
       "      <th>...</th>\n",
       "      <td>...</td>\n",
       "      <td>...</td>\n",
       "      <td>...</td>\n",
       "      <td>...</td>\n",
       "      <td>...</td>\n",
       "      <td>...</td>\n",
       "      <td>...</td>\n",
       "    </tr>\n",
       "    <tr>\n",
       "      <th>7123</th>\n",
       "      <td>92655</td>\n",
       "      <td>2021-08-31</td>\n",
       "      <td>UNITEDHEALTH GROUP INC</td>\n",
       "      <td>UNH</td>\n",
       "      <td>416.269989</td>\n",
       "      <td>0.009825</td>\n",
       "      <td>942917</td>\n",
       "    </tr>\n",
       "    <tr>\n",
       "      <th>7124</th>\n",
       "      <td>92655</td>\n",
       "      <td>2021-09-30</td>\n",
       "      <td>UNITEDHEALTH GROUP INC</td>\n",
       "      <td>UNH</td>\n",
       "      <td>390.739990</td>\n",
       "      <td>-0.057847</td>\n",
       "      <td>942917</td>\n",
       "    </tr>\n",
       "    <tr>\n",
       "      <th>7125</th>\n",
       "      <td>92655</td>\n",
       "      <td>2021-10-29</td>\n",
       "      <td>UNITEDHEALTH GROUP INC</td>\n",
       "      <td>UNH</td>\n",
       "      <td>460.470001</td>\n",
       "      <td>0.178456</td>\n",
       "      <td>942917</td>\n",
       "    </tr>\n",
       "    <tr>\n",
       "      <th>7126</th>\n",
       "      <td>92655</td>\n",
       "      <td>2021-11-30</td>\n",
       "      <td>UNITEDHEALTH GROUP INC</td>\n",
       "      <td>UNH</td>\n",
       "      <td>444.220001</td>\n",
       "      <td>-0.035290</td>\n",
       "      <td>941851</td>\n",
       "    </tr>\n",
       "    <tr>\n",
       "      <th>7127</th>\n",
       "      <td>92655</td>\n",
       "      <td>2021-12-31</td>\n",
       "      <td>UNITEDHEALTH GROUP INC</td>\n",
       "      <td>UNH</td>\n",
       "      <td>502.140015</td>\n",
       "      <td>0.133650</td>\n",
       "      <td>941851</td>\n",
       "    </tr>\n",
       "  </tbody>\n",
       "</table>\n",
       "<p>7128 rows × 7 columns</p>\n",
       "</div>"
      ],
      "text/plain": [
       "      PERMNO       DATE                  COMNAM TICKER         PRC       RET  \\\n",
       "0      10107 2000-01-31          MICROSOFT CORP   MSFT   97.875000 -0.161670   \n",
       "1      10107 2000-02-29          MICROSOFT CORP   MSFT   89.375000 -0.086845   \n",
       "2      10107 2000-03-31          MICROSOFT CORP   MSFT  106.250000  0.188811   \n",
       "3      10107 2000-04-28          MICROSOFT CORP   MSFT   69.750000 -0.343529   \n",
       "4      10107 2000-05-31          MICROSOFT CORP   MSFT   62.562500 -0.103047   \n",
       "...      ...        ...                     ...    ...         ...       ...   \n",
       "7123   92655 2021-08-31  UNITEDHEALTH GROUP INC    UNH  416.269989  0.009825   \n",
       "7124   92655 2021-09-30  UNITEDHEALTH GROUP INC    UNH  390.739990 -0.057847   \n",
       "7125   92655 2021-10-29  UNITEDHEALTH GROUP INC    UNH  460.470001  0.178456   \n",
       "7126   92655 2021-11-30  UNITEDHEALTH GROUP INC    UNH  444.220001 -0.035290   \n",
       "7127   92655 2021-12-31  UNITEDHEALTH GROUP INC    UNH  502.140015  0.133650   \n",
       "\n",
       "       SHROUT  \n",
       "0     5160025  \n",
       "1     5160025  \n",
       "2     5242000  \n",
       "3     5262405  \n",
       "4     5262405  \n",
       "...       ...  \n",
       "7123   942917  \n",
       "7124   942917  \n",
       "7125   942917  \n",
       "7126   941851  \n",
       "7127   941851  \n",
       "\n",
       "[7128 rows x 7 columns]"
      ]
     },
     "execution_count": 179,
     "metadata": {},
     "output_type": "execute_result"
    }
   ],
   "source": [
    "## Task 3 - Equal-weighted Portfolio\n",
    "\n",
    "individual_dj27_returns"
   ]
  },
  {
   "cell_type": "markdown",
   "id": "42af364f-12f0-47b9-b001-f5a0977576a5",
   "metadata": {},
   "source": [
    "To make our equally-weighted index we will allocate each ticker an equal weight of $\\dfrac{1}{n}$, and since we have 27 stocks, we allocate each stock a weight of $\\dfrac{1}{27}$."
   ]
  },
  {
   "cell_type": "code",
   "execution_count": 224,
   "id": "b89b0e73-d522-4ffe-910d-da012439c001",
   "metadata": {},
   "outputs": [
    {
     "data": {
      "text/plain": [
       "0"
      ]
     },
     "execution_count": 224,
     "metadata": {},
     "output_type": "execute_result"
    }
   ],
   "source": [
    "# We only need to use monthly returns (already calculated) to calculate the index. So let's align the data.\n",
    "# This df will hold our (unindexed [to 1000]) portfolio\n",
    "\n",
    "# We'll just pull the dates from the sp500 returns since that, and the dj data all have aligned dates\n",
    "portfolio_df = pd.DataFrame(sp500_returns[\"DATE\"])\n",
    "\n",
    "for permno, df in returns_dict.items():\n",
    "    portfolio_df.loc[:, permno] = list(df[\"RET\"])\n",
    "\n",
    "# Just to validate, none of our cells are null so we can safely continue \n",
    "portfolio_df.isnull().sum().sum() # returns number of null cells"
   ]
  },
  {
   "cell_type": "code",
   "execution_count": 225,
   "id": "828f5581-4b9f-4fb7-a467-15626a43a0c7",
   "metadata": {},
   "outputs": [],
   "source": [
    "num_stocks = 27\n",
    "weight = 1 / num_stocks\n",
    "starting_level = 1000\n",
    "\n",
    "portfolio_df.iloc[:, 1:] *= weight # Weighted average of portfolio returns\n",
    "portfolio_df.loc[:, \"Weighted Return\"] = portfolio_df.iloc[:, 1:].sum(axis=1)"
   ]
  },
  {
   "cell_type": "code",
   "execution_count": null,
   "id": "505308e8-4f66-4214-8dbb-462491e453fd",
   "metadata": {},
   "outputs": [],
   "source": []
  },
  {
   "cell_type": "code",
   "execution_count": 257,
   "id": "39f58f1c-a19f-454a-96af-5d31fbf77ce0",
   "metadata": {},
   "outputs": [
    {
     "data": {
      "text/html": [
       "<div>\n",
       "<style scoped>\n",
       "    .dataframe tbody tr th:only-of-type {\n",
       "        vertical-align: middle;\n",
       "    }\n",
       "\n",
       "    .dataframe tbody tr th {\n",
       "        vertical-align: top;\n",
       "    }\n",
       "\n",
       "    .dataframe thead th {\n",
       "        text-align: right;\n",
       "    }\n",
       "</style>\n",
       "<table border=\"1\" class=\"dataframe\">\n",
       "  <thead>\n",
       "    <tr style=\"text-align: right;\">\n",
       "      <th></th>\n",
       "      <th>Date</th>\n",
       "      <th>Index Level</th>\n",
       "    </tr>\n",
       "  </thead>\n",
       "  <tbody>\n",
       "    <tr>\n",
       "      <th>0</th>\n",
       "      <td>1999-12-31</td>\n",
       "      <td>1000.000000</td>\n",
       "    </tr>\n",
       "    <tr>\n",
       "      <th>1</th>\n",
       "      <td>2000-01-31</td>\n",
       "      <td>981.118757</td>\n",
       "    </tr>\n",
       "    <tr>\n",
       "      <th>2</th>\n",
       "      <td>2000-02-29</td>\n",
       "      <td>899.214402</td>\n",
       "    </tr>\n",
       "    <tr>\n",
       "      <th>3</th>\n",
       "      <td>2000-03-31</td>\n",
       "      <td>1006.579485</td>\n",
       "    </tr>\n",
       "    <tr>\n",
       "      <th>4</th>\n",
       "      <td>2000-04-28</td>\n",
       "      <td>993.307897</td>\n",
       "    </tr>\n",
       "    <tr>\n",
       "      <th>...</th>\n",
       "      <td>...</td>\n",
       "      <td>...</td>\n",
       "    </tr>\n",
       "    <tr>\n",
       "      <th>260</th>\n",
       "      <td>2021-08-31</td>\n",
       "      <td>11319.801843</td>\n",
       "    </tr>\n",
       "    <tr>\n",
       "      <th>261</th>\n",
       "      <td>2021-09-30</td>\n",
       "      <td>10845.419378</td>\n",
       "    </tr>\n",
       "    <tr>\n",
       "      <th>262</th>\n",
       "      <td>2021-10-29</td>\n",
       "      <td>11373.659500</td>\n",
       "    </tr>\n",
       "    <tr>\n",
       "      <th>263</th>\n",
       "      <td>2021-11-30</td>\n",
       "      <td>10961.178781</td>\n",
       "    </tr>\n",
       "    <tr>\n",
       "      <th>264</th>\n",
       "      <td>2021-12-31</td>\n",
       "      <td>11718.396301</td>\n",
       "    </tr>\n",
       "  </tbody>\n",
       "</table>\n",
       "<p>265 rows × 2 columns</p>\n",
       "</div>"
      ],
      "text/plain": [
       "          Date   Index Level\n",
       "0   1999-12-31   1000.000000\n",
       "1   2000-01-31    981.118757\n",
       "2   2000-02-29    899.214402\n",
       "3   2000-03-31   1006.579485\n",
       "4   2000-04-28    993.307897\n",
       "..         ...           ...\n",
       "260 2021-08-31  11319.801843\n",
       "261 2021-09-30  10845.419378\n",
       "262 2021-10-29  11373.659500\n",
       "263 2021-11-30  10961.178781\n",
       "264 2021-12-31  11718.396301\n",
       "\n",
       "[265 rows x 2 columns]"
      ]
     },
     "execution_count": 257,
     "metadata": {},
     "output_type": "execute_result"
    }
   ],
   "source": [
    "# Now we'll use this data to populate our index_df \n",
    "index_returns_df = portfolio_df[[\"DATE\", \"Weighted Return\"]]\n",
    "\n",
    "index_df = pd.DataFrame(columns = [\"Date\", \"Index Level\"]).append({\"Date\": \"1999-12-31\", \"Index Level\": 1000.00}, ignore_index=True)\n",
    "\n",
    "for index, row in index_returns_df.iterrows():\n",
    "    index_df.loc[index + 1, \"Date\"] = str(index_returns_df.loc[index, \"DATE\"])\n",
    "    index_df.loc[index + 1, \"Index Level\"] = (1+ index_returns_df.loc[index, \"Weighted Return\"]) * index_df.loc[index, \"Index Level\"]\n",
    "index_df[\"Date\"] = pd.to_datetime(index_df.Date) # Fix datetime\n",
    "\n",
    "index_df"
   ]
  },
  {
   "cell_type": "code",
   "execution_count": 295,
   "id": "5e7b67d7-2abd-4fe6-aec6-b4e599cebbf1",
   "metadata": {},
   "outputs": [
    {
     "data": {
      "application/vnd.plotly.v1+json": {
       "config": {
        "plotlyServerURL": "https://plot.ly"
       },
       "data": [
        {
         "hovertemplate": "Date=%{x}<br>Index Level=%{y}<extra></extra>",
         "legendgroup": "",
         "line": {
          "color": "#636efa",
          "dash": "solid"
         },
         "marker": {
          "symbol": "circle"
         },
         "mode": "lines",
         "name": "",
         "orientation": "v",
         "showlegend": false,
         "type": "scatter",
         "x": [
          "1999-12-31T00:00:00",
          "2000-01-31T00:00:00",
          "2000-02-29T00:00:00",
          "2000-03-31T00:00:00",
          "2000-04-28T00:00:00",
          "2000-05-31T00:00:00",
          "2000-06-30T00:00:00",
          "2000-07-31T00:00:00",
          "2000-08-31T00:00:00",
          "2000-09-29T00:00:00",
          "2000-10-31T00:00:00",
          "2000-11-30T00:00:00",
          "2000-12-29T00:00:00",
          "2001-01-31T00:00:00",
          "2001-02-28T00:00:00",
          "2001-03-30T00:00:00",
          "2001-04-30T00:00:00",
          "2001-05-31T00:00:00",
          "2001-06-29T00:00:00",
          "2001-07-31T00:00:00",
          "2001-08-31T00:00:00",
          "2001-09-28T00:00:00",
          "2001-10-31T00:00:00",
          "2001-11-30T00:00:00",
          "2001-12-31T00:00:00",
          "2002-01-31T00:00:00",
          "2002-02-28T00:00:00",
          "2002-03-28T00:00:00",
          "2002-04-30T00:00:00",
          "2002-05-31T00:00:00",
          "2002-06-28T00:00:00",
          "2002-07-31T00:00:00",
          "2002-08-30T00:00:00",
          "2002-09-30T00:00:00",
          "2002-10-31T00:00:00",
          "2002-11-29T00:00:00",
          "2002-12-31T00:00:00",
          "2003-01-31T00:00:00",
          "2003-02-28T00:00:00",
          "2003-03-31T00:00:00",
          "2003-04-30T00:00:00",
          "2003-05-30T00:00:00",
          "2003-06-30T00:00:00",
          "2003-07-31T00:00:00",
          "2003-08-29T00:00:00",
          "2003-09-30T00:00:00",
          "2003-10-31T00:00:00",
          "2003-11-28T00:00:00",
          "2003-12-31T00:00:00",
          "2004-01-30T00:00:00",
          "2004-02-27T00:00:00",
          "2004-03-31T00:00:00",
          "2004-04-30T00:00:00",
          "2004-05-28T00:00:00",
          "2004-06-30T00:00:00",
          "2004-07-30T00:00:00",
          "2004-08-31T00:00:00",
          "2004-09-30T00:00:00",
          "2004-10-29T00:00:00",
          "2004-11-30T00:00:00",
          "2004-12-31T00:00:00",
          "2005-01-31T00:00:00",
          "2005-02-28T00:00:00",
          "2005-03-31T00:00:00",
          "2005-04-29T00:00:00",
          "2005-05-31T00:00:00",
          "2005-06-30T00:00:00",
          "2005-07-29T00:00:00",
          "2005-08-31T00:00:00",
          "2005-09-30T00:00:00",
          "2005-10-31T00:00:00",
          "2005-11-30T00:00:00",
          "2005-12-30T00:00:00",
          "2006-01-31T00:00:00",
          "2006-02-28T00:00:00",
          "2006-03-31T00:00:00",
          "2006-04-28T00:00:00",
          "2006-05-31T00:00:00",
          "2006-06-30T00:00:00",
          "2006-07-31T00:00:00",
          "2006-08-31T00:00:00",
          "2006-09-29T00:00:00",
          "2006-10-31T00:00:00",
          "2006-11-30T00:00:00",
          "2006-12-29T00:00:00",
          "2007-01-31T00:00:00",
          "2007-02-28T00:00:00",
          "2007-03-30T00:00:00",
          "2007-04-30T00:00:00",
          "2007-05-31T00:00:00",
          "2007-06-29T00:00:00",
          "2007-07-31T00:00:00",
          "2007-08-31T00:00:00",
          "2007-09-28T00:00:00",
          "2007-10-31T00:00:00",
          "2007-11-30T00:00:00",
          "2007-12-31T00:00:00",
          "2008-01-31T00:00:00",
          "2008-02-29T00:00:00",
          "2008-03-31T00:00:00",
          "2008-04-30T00:00:00",
          "2008-05-30T00:00:00",
          "2008-06-30T00:00:00",
          "2008-07-31T00:00:00",
          "2008-08-29T00:00:00",
          "2008-09-30T00:00:00",
          "2008-10-31T00:00:00",
          "2008-11-28T00:00:00",
          "2008-12-31T00:00:00",
          "2009-01-30T00:00:00",
          "2009-02-27T00:00:00",
          "2009-03-31T00:00:00",
          "2009-04-30T00:00:00",
          "2009-05-29T00:00:00",
          "2009-06-30T00:00:00",
          "2009-07-31T00:00:00",
          "2009-08-31T00:00:00",
          "2009-09-30T00:00:00",
          "2009-10-30T00:00:00",
          "2009-11-30T00:00:00",
          "2009-12-31T00:00:00",
          "2010-01-29T00:00:00",
          "2010-02-26T00:00:00",
          "2010-03-31T00:00:00",
          "2010-04-30T00:00:00",
          "2010-05-28T00:00:00",
          "2010-06-30T00:00:00",
          "2010-07-30T00:00:00",
          "2010-08-31T00:00:00",
          "2010-09-30T00:00:00",
          "2010-10-29T00:00:00",
          "2010-11-30T00:00:00",
          "2010-12-31T00:00:00",
          "2011-01-31T00:00:00",
          "2011-02-28T00:00:00",
          "2011-03-31T00:00:00",
          "2011-04-29T00:00:00",
          "2011-05-31T00:00:00",
          "2011-06-30T00:00:00",
          "2011-07-29T00:00:00",
          "2011-08-31T00:00:00",
          "2011-09-30T00:00:00",
          "2011-10-31T00:00:00",
          "2011-11-30T00:00:00",
          "2011-12-30T00:00:00",
          "2012-01-31T00:00:00",
          "2012-02-29T00:00:00",
          "2012-03-30T00:00:00",
          "2012-04-30T00:00:00",
          "2012-05-31T00:00:00",
          "2012-06-29T00:00:00",
          "2012-07-31T00:00:00",
          "2012-08-31T00:00:00",
          "2012-09-28T00:00:00",
          "2012-10-31T00:00:00",
          "2012-11-30T00:00:00",
          "2012-12-31T00:00:00",
          "2013-01-31T00:00:00",
          "2013-02-28T00:00:00",
          "2013-03-28T00:00:00",
          "2013-04-30T00:00:00",
          "2013-05-31T00:00:00",
          "2013-06-28T00:00:00",
          "2013-07-31T00:00:00",
          "2013-08-30T00:00:00",
          "2013-09-30T00:00:00",
          "2013-10-31T00:00:00",
          "2013-11-29T00:00:00",
          "2013-12-31T00:00:00",
          "2014-01-31T00:00:00",
          "2014-02-28T00:00:00",
          "2014-03-31T00:00:00",
          "2014-04-30T00:00:00",
          "2014-05-30T00:00:00",
          "2014-06-30T00:00:00",
          "2014-07-31T00:00:00",
          "2014-08-29T00:00:00",
          "2014-09-30T00:00:00",
          "2014-10-31T00:00:00",
          "2014-11-28T00:00:00",
          "2014-12-31T00:00:00",
          "2015-01-30T00:00:00",
          "2015-02-27T00:00:00",
          "2015-03-31T00:00:00",
          "2015-04-30T00:00:00",
          "2015-05-29T00:00:00",
          "2015-06-30T00:00:00",
          "2015-07-31T00:00:00",
          "2015-08-31T00:00:00",
          "2015-09-30T00:00:00",
          "2015-10-30T00:00:00",
          "2015-11-30T00:00:00",
          "2015-12-31T00:00:00",
          "2016-01-29T00:00:00",
          "2016-02-29T00:00:00",
          "2016-03-31T00:00:00",
          "2016-04-29T00:00:00",
          "2016-05-31T00:00:00",
          "2016-06-30T00:00:00",
          "2016-07-29T00:00:00",
          "2016-08-31T00:00:00",
          "2016-09-30T00:00:00",
          "2016-10-31T00:00:00",
          "2016-11-30T00:00:00",
          "2016-12-30T00:00:00",
          "2017-01-31T00:00:00",
          "2017-02-28T00:00:00",
          "2017-03-31T00:00:00",
          "2017-04-28T00:00:00",
          "2017-05-31T00:00:00",
          "2017-06-30T00:00:00",
          "2017-07-31T00:00:00",
          "2017-08-31T00:00:00",
          "2017-09-29T00:00:00",
          "2017-10-31T00:00:00",
          "2017-11-30T00:00:00",
          "2017-12-29T00:00:00",
          "2018-01-31T00:00:00",
          "2018-02-28T00:00:00",
          "2018-03-29T00:00:00",
          "2018-04-30T00:00:00",
          "2018-05-31T00:00:00",
          "2018-06-29T00:00:00",
          "2018-07-31T00:00:00",
          "2018-08-31T00:00:00",
          "2018-09-28T00:00:00",
          "2018-10-31T00:00:00",
          "2018-11-30T00:00:00",
          "2018-12-31T00:00:00",
          "2019-01-31T00:00:00",
          "2019-02-28T00:00:00",
          "2019-03-29T00:00:00",
          "2019-04-30T00:00:00",
          "2019-05-31T00:00:00",
          "2019-06-28T00:00:00",
          "2019-07-31T00:00:00",
          "2019-08-30T00:00:00",
          "2019-09-30T00:00:00",
          "2019-10-31T00:00:00",
          "2019-11-29T00:00:00",
          "2019-12-31T00:00:00",
          "2020-01-31T00:00:00",
          "2020-02-28T00:00:00",
          "2020-03-31T00:00:00",
          "2020-04-30T00:00:00",
          "2020-05-29T00:00:00",
          "2020-06-30T00:00:00",
          "2020-07-31T00:00:00",
          "2020-08-31T00:00:00",
          "2020-09-30T00:00:00",
          "2020-10-30T00:00:00",
          "2020-11-30T00:00:00",
          "2020-12-31T00:00:00",
          "2021-01-29T00:00:00",
          "2021-02-26T00:00:00",
          "2021-03-31T00:00:00",
          "2021-04-30T00:00:00",
          "2021-05-28T00:00:00",
          "2021-06-30T00:00:00",
          "2021-07-30T00:00:00",
          "2021-08-31T00:00:00",
          "2021-09-30T00:00:00",
          "2021-10-29T00:00:00",
          "2021-11-30T00:00:00",
          "2021-12-31T00:00:00"
         ],
         "xaxis": "x",
         "y": [
          1000,
          981.118757372584,
          899.2144015285435,
          1006.5794847553543,
          993.3078967449055,
          982.448952560603,
          1001.8573788350253,
          1015.7999268061593,
          1067.9244139697917,
          1023.2262327824546,
          1053.6342293054038,
          1025.7406402050358,
          1051.722546817903,
          1087.1257391218937,
          1014.2705486425023,
          957.8007327793604,
          1041.5193866150955,
          1049.4576433650439,
          1003.9364226598719,
          1023.0513539364408,
          982.6656310214311,
          882.4803765118796,
          928.9704141775866,
          1013.5214526054764,
          1024.4908541925524,
          1030.7475413806994,
          1031.5504568935905,
          1078.6968353112302,
          1039.5126805420773,
          1030.5694972640176,
          958.7998958787539,
          887.1811012707785,
          880.641761007414,
          778.9911122417458,
          866.0591993250883,
          919.9251661909592,
          856.9151399559662,
          844.5132809424182,
          840.1059212551487,
          858.9622452299506,
          923.192651054392,
          981.5580765088238,
          1007.041026258985,
          1039.1109958027869,
          1057.4258338273128,
          1047.716243740966,
          1115.9414873972155,
          1115.0158387808556,
          1170.259524120288,
          1194.7720118752675,
          1218.640575066989,
          1204.2755818510782,
          1186.3729822997075,
          1198.0872560211353,
          1235.3206306545396,
          1200.0136429041843,
          1205.6477439079788,
          1208.48748326871,
          1241.611129100216,
          1302.3172343686492,
          1340.3933279300452,
          1328.074002816347,
          1363.2299345922077,
          1344.2229985339636,
          1306.0064889315079,
          1355.3649412714612,
          1339.0438887873622,
          1416.8982367242097,
          1400.0724984871724,
          1419.282138810057,
          1415.3639276348233,
          1482.4387055536488,
          1467.1868559573845,
          1489.4365432741859,
          1515.9785099044066,
          1523.272127410752,
          1530.81631306841,
          1489.4461705253348,
          1498.6488750643905,
          1516.233768069474,
          1553.750477282392,
          1619.4068147147227,
          1682.7992028421854,
          1715.1672663185075,
          1752.6853583072711,
          1770.4750576409804,
          1729.9465354005133,
          1737.8158451011545,
          1849.50036593637,
          1921.7294411113724,
          1890.6709812381175,
          1872.196251466373,
          1894.6233554424925,
          1979.6953857585543,
          2047.6945348798417,
          1991.2332960100307,
          1983.9712360981682,
          1849.440064786433,
          1787.5792057947774,
          1807.0176708148356,
          1892.3800947940729,
          1906.4975598195665,
          1730.7740620044137,
          1761.0236249764594,
          1822.2839217399096,
          1701.3461523753897,
          1482.4949263462609,
          1398.31576069332,
          1420.4616354267673,
          1326.2619912360515,
          1195.7870614852648,
          1316.3347147641591,
          1473.9460105175674,
          1539.1575884494525,
          1535.1735514056088,
          1691.6754814643862,
          1762.1591715342854,
          1823.3028448819305,
          1809.541962453235,
          1936.427152764702,
          1966.05621497787,
          1908.6152609617436,
          1970.5196240841328,
          2092.170195734385,
          2109.1514174755216,
          1965.6505256744326,
          1881.506646226026,
          2019.5193024801265,
          1928.077776398434,
          2104.205285040501,
          2178.1642783855864,
          2165.6093576922062,
          2280.2468661275884,
          2327.5195371530244,
          2379.987175587512,
          2374.119175572415,
          2480.2534526492864,
          2461.966781192283,
          2430.170405390855,
          2395.9201411829113,
          2311.739986695672,
          2189.5405548013377,
          2410.072580470711,
          2420.9844874016935,
          2479.6874233797093,
          2607.2351537937657,
          2704.380567526334,
          2797.1115628461434,
          2799.8605278206137,
          2639.2626144540336,
          2722.9587162545527,
          2785.745041894484,
          2845.779983597453,
          2905.811701217655,
          2864.3376587053294,
          2869.1228374915318,
          2898.405390167471,
          3042.965953503277,
          3102.2879440020297,
          3245.5973608347754,
          3362.9479147378534,
          3442.8556021133018,
          3402.6438212460953,
          3540.6246296380905,
          3428.945927537816,
          3538.164240991723,
          3667.930051403093,
          3799.1620592256127,
          3875.8682224279546,
          3712.7373480574006,
          3882.8645619168306,
          3938.757828161969,
          3990.053499218314,
          4076.0866231941163,
          4152.278684036195,
          4123.490442866914,
          4287.943045225832,
          4287.482747692791,
          4394.988565811698,
          4570.6497447566235,
          4539.150650114375,
          4375.108861931095,
          4644.643853254825,
          4575.976668464792,
          4620.8139534690345,
          4682.696301235231,
          4576.157018517509,
          4685.066902443874,
          4395.018587128076,
          4330.536304434856,
          4683.689093869728,
          4708.331648223951,
          4671.675237413277,
          4463.960328028012,
          4458.879098770856,
          4800.659700584989,
          4787.779546045127,
          4826.772291745429,
          4885.1493597004755,
          5038.294527331399,
          5072.608075088411,
          5071.493812380964,
          4986.1939724164495,
          5221.336310087492,
          5377.434539837484,
          5447.195402817168,
          5739.431402546916,
          5689.388262922445,
          5776.387823517458,
          5788.564124618884,
          5881.039020283647,
          6057.191988039263,
          6078.039579373807,
          6200.419642748522,
          6415.576545540902,
          6717.92511533562,
          6844.4315944449945,
          7192.022874579949,
          6882.447856987024,
          6714.394796675781,
          6770.1601294033435,
          6816.395975938401,
          6832.076201766193,
          7172.558953694907,
          7380.755941083255,
          7526.037521529452,
          7271.150838012328,
          7538.459721811331,
          6928.2744291447225,
          7336.997487756664,
          7614.671364855739,
          7694.266678819618,
          7889.344928872526,
          7424.335074995622,
          7993.031881209179,
          8110.52996186599,
          8006.568877833832,
          8199.101736924142,
          8286.703793450404,
          8602.754303895696,
          8811.930471706095,
          8667.59940203628,
          7859.442194459457,
          7036.749289511333,
          7713.0660636702905,
          8011.712676670615,
          8082.8982831857875,
          8215.112236021945,
          8725.337707729217,
          8554.256413187515,
          8203.216471925263,
          9296.733900023353,
          9683.115150610409,
          9596.64703559932,
          9925.348346766847,
          10659.586877874342,
          10804.327262164212,
          11017.106507892402,
          11049.109182231461,
          11158.993398273813,
          11319.801843483496,
          10845.419377860173,
          11373.659500352755,
          10961.178781428403,
          11718.396301088374
         ],
         "yaxis": "y"
        }
       ],
       "layout": {
        "annotations": [
         {
          "align": "center",
          "arrowcolor": "#636363",
          "arrowhead": 2,
          "arrowsize": 1,
          "arrowwidth": 2,
          "ax": 20,
          "ay": -30,
          "bgcolor": "#ff7f0e",
          "bordercolor": "#c7c7c7",
          "borderpad": 4,
          "borderwidth": 2,
          "font": {
           "color": "#ffffff",
           "family": "Courier New, monospace",
           "size": 16
          },
          "opacity": 0.8,
          "showarrow": true,
          "text": "max=5",
          "x": [
           "2002-09-30T00:00:00"
          ],
          "xref": "x",
          "y": 778.9911122417458,
          "yref": "y"
         }
        ],
        "autosize": true,
        "legend": {
         "tracegroupgap": 0
        },
        "margin": {
         "t": 60
        },
        "template": {
         "data": {
          "bar": [
           {
            "error_x": {
             "color": "#2a3f5f"
            },
            "error_y": {
             "color": "#2a3f5f"
            },
            "marker": {
             "line": {
              "color": "#E5ECF6",
              "width": 0.5
             },
             "pattern": {
              "fillmode": "overlay",
              "size": 10,
              "solidity": 0.2
             }
            },
            "type": "bar"
           }
          ],
          "barpolar": [
           {
            "marker": {
             "line": {
              "color": "#E5ECF6",
              "width": 0.5
             },
             "pattern": {
              "fillmode": "overlay",
              "size": 10,
              "solidity": 0.2
             }
            },
            "type": "barpolar"
           }
          ],
          "carpet": [
           {
            "aaxis": {
             "endlinecolor": "#2a3f5f",
             "gridcolor": "white",
             "linecolor": "white",
             "minorgridcolor": "white",
             "startlinecolor": "#2a3f5f"
            },
            "baxis": {
             "endlinecolor": "#2a3f5f",
             "gridcolor": "white",
             "linecolor": "white",
             "minorgridcolor": "white",
             "startlinecolor": "#2a3f5f"
            },
            "type": "carpet"
           }
          ],
          "choropleth": [
           {
            "colorbar": {
             "outlinewidth": 0,
             "ticks": ""
            },
            "type": "choropleth"
           }
          ],
          "contour": [
           {
            "colorbar": {
             "outlinewidth": 0,
             "ticks": ""
            },
            "colorscale": [
             [
              0,
              "#0d0887"
             ],
             [
              0.1111111111111111,
              "#46039f"
             ],
             [
              0.2222222222222222,
              "#7201a8"
             ],
             [
              0.3333333333333333,
              "#9c179e"
             ],
             [
              0.4444444444444444,
              "#bd3786"
             ],
             [
              0.5555555555555556,
              "#d8576b"
             ],
             [
              0.6666666666666666,
              "#ed7953"
             ],
             [
              0.7777777777777778,
              "#fb9f3a"
             ],
             [
              0.8888888888888888,
              "#fdca26"
             ],
             [
              1,
              "#f0f921"
             ]
            ],
            "type": "contour"
           }
          ],
          "contourcarpet": [
           {
            "colorbar": {
             "outlinewidth": 0,
             "ticks": ""
            },
            "type": "contourcarpet"
           }
          ],
          "heatmap": [
           {
            "colorbar": {
             "outlinewidth": 0,
             "ticks": ""
            },
            "colorscale": [
             [
              0,
              "#0d0887"
             ],
             [
              0.1111111111111111,
              "#46039f"
             ],
             [
              0.2222222222222222,
              "#7201a8"
             ],
             [
              0.3333333333333333,
              "#9c179e"
             ],
             [
              0.4444444444444444,
              "#bd3786"
             ],
             [
              0.5555555555555556,
              "#d8576b"
             ],
             [
              0.6666666666666666,
              "#ed7953"
             ],
             [
              0.7777777777777778,
              "#fb9f3a"
             ],
             [
              0.8888888888888888,
              "#fdca26"
             ],
             [
              1,
              "#f0f921"
             ]
            ],
            "type": "heatmap"
           }
          ],
          "heatmapgl": [
           {
            "colorbar": {
             "outlinewidth": 0,
             "ticks": ""
            },
            "colorscale": [
             [
              0,
              "#0d0887"
             ],
             [
              0.1111111111111111,
              "#46039f"
             ],
             [
              0.2222222222222222,
              "#7201a8"
             ],
             [
              0.3333333333333333,
              "#9c179e"
             ],
             [
              0.4444444444444444,
              "#bd3786"
             ],
             [
              0.5555555555555556,
              "#d8576b"
             ],
             [
              0.6666666666666666,
              "#ed7953"
             ],
             [
              0.7777777777777778,
              "#fb9f3a"
             ],
             [
              0.8888888888888888,
              "#fdca26"
             ],
             [
              1,
              "#f0f921"
             ]
            ],
            "type": "heatmapgl"
           }
          ],
          "histogram": [
           {
            "marker": {
             "pattern": {
              "fillmode": "overlay",
              "size": 10,
              "solidity": 0.2
             }
            },
            "type": "histogram"
           }
          ],
          "histogram2d": [
           {
            "colorbar": {
             "outlinewidth": 0,
             "ticks": ""
            },
            "colorscale": [
             [
              0,
              "#0d0887"
             ],
             [
              0.1111111111111111,
              "#46039f"
             ],
             [
              0.2222222222222222,
              "#7201a8"
             ],
             [
              0.3333333333333333,
              "#9c179e"
             ],
             [
              0.4444444444444444,
              "#bd3786"
             ],
             [
              0.5555555555555556,
              "#d8576b"
             ],
             [
              0.6666666666666666,
              "#ed7953"
             ],
             [
              0.7777777777777778,
              "#fb9f3a"
             ],
             [
              0.8888888888888888,
              "#fdca26"
             ],
             [
              1,
              "#f0f921"
             ]
            ],
            "type": "histogram2d"
           }
          ],
          "histogram2dcontour": [
           {
            "colorbar": {
             "outlinewidth": 0,
             "ticks": ""
            },
            "colorscale": [
             [
              0,
              "#0d0887"
             ],
             [
              0.1111111111111111,
              "#46039f"
             ],
             [
              0.2222222222222222,
              "#7201a8"
             ],
             [
              0.3333333333333333,
              "#9c179e"
             ],
             [
              0.4444444444444444,
              "#bd3786"
             ],
             [
              0.5555555555555556,
              "#d8576b"
             ],
             [
              0.6666666666666666,
              "#ed7953"
             ],
             [
              0.7777777777777778,
              "#fb9f3a"
             ],
             [
              0.8888888888888888,
              "#fdca26"
             ],
             [
              1,
              "#f0f921"
             ]
            ],
            "type": "histogram2dcontour"
           }
          ],
          "mesh3d": [
           {
            "colorbar": {
             "outlinewidth": 0,
             "ticks": ""
            },
            "type": "mesh3d"
           }
          ],
          "parcoords": [
           {
            "line": {
             "colorbar": {
              "outlinewidth": 0,
              "ticks": ""
             }
            },
            "type": "parcoords"
           }
          ],
          "pie": [
           {
            "automargin": true,
            "type": "pie"
           }
          ],
          "scatter": [
           {
            "fillpattern": {
             "fillmode": "overlay",
             "size": 10,
             "solidity": 0.2
            },
            "type": "scatter"
           }
          ],
          "scatter3d": [
           {
            "line": {
             "colorbar": {
              "outlinewidth": 0,
              "ticks": ""
             }
            },
            "marker": {
             "colorbar": {
              "outlinewidth": 0,
              "ticks": ""
             }
            },
            "type": "scatter3d"
           }
          ],
          "scattercarpet": [
           {
            "marker": {
             "colorbar": {
              "outlinewidth": 0,
              "ticks": ""
             }
            },
            "type": "scattercarpet"
           }
          ],
          "scattergeo": [
           {
            "marker": {
             "colorbar": {
              "outlinewidth": 0,
              "ticks": ""
             }
            },
            "type": "scattergeo"
           }
          ],
          "scattergl": [
           {
            "marker": {
             "colorbar": {
              "outlinewidth": 0,
              "ticks": ""
             }
            },
            "type": "scattergl"
           }
          ],
          "scattermapbox": [
           {
            "marker": {
             "colorbar": {
              "outlinewidth": 0,
              "ticks": ""
             }
            },
            "type": "scattermapbox"
           }
          ],
          "scatterpolar": [
           {
            "marker": {
             "colorbar": {
              "outlinewidth": 0,
              "ticks": ""
             }
            },
            "type": "scatterpolar"
           }
          ],
          "scatterpolargl": [
           {
            "marker": {
             "colorbar": {
              "outlinewidth": 0,
              "ticks": ""
             }
            },
            "type": "scatterpolargl"
           }
          ],
          "scatterternary": [
           {
            "marker": {
             "colorbar": {
              "outlinewidth": 0,
              "ticks": ""
             }
            },
            "type": "scatterternary"
           }
          ],
          "surface": [
           {
            "colorbar": {
             "outlinewidth": 0,
             "ticks": ""
            },
            "colorscale": [
             [
              0,
              "#0d0887"
             ],
             [
              0.1111111111111111,
              "#46039f"
             ],
             [
              0.2222222222222222,
              "#7201a8"
             ],
             [
              0.3333333333333333,
              "#9c179e"
             ],
             [
              0.4444444444444444,
              "#bd3786"
             ],
             [
              0.5555555555555556,
              "#d8576b"
             ],
             [
              0.6666666666666666,
              "#ed7953"
             ],
             [
              0.7777777777777778,
              "#fb9f3a"
             ],
             [
              0.8888888888888888,
              "#fdca26"
             ],
             [
              1,
              "#f0f921"
             ]
            ],
            "type": "surface"
           }
          ],
          "table": [
           {
            "cells": {
             "fill": {
              "color": "#EBF0F8"
             },
             "line": {
              "color": "white"
             }
            },
            "header": {
             "fill": {
              "color": "#C8D4E3"
             },
             "line": {
              "color": "white"
             }
            },
            "type": "table"
           }
          ]
         },
         "layout": {
          "annotationdefaults": {
           "arrowcolor": "#2a3f5f",
           "arrowhead": 0,
           "arrowwidth": 1
          },
          "autotypenumbers": "strict",
          "coloraxis": {
           "colorbar": {
            "outlinewidth": 0,
            "ticks": ""
           }
          },
          "colorscale": {
           "diverging": [
            [
             0,
             "#8e0152"
            ],
            [
             0.1,
             "#c51b7d"
            ],
            [
             0.2,
             "#de77ae"
            ],
            [
             0.3,
             "#f1b6da"
            ],
            [
             0.4,
             "#fde0ef"
            ],
            [
             0.5,
             "#f7f7f7"
            ],
            [
             0.6,
             "#e6f5d0"
            ],
            [
             0.7,
             "#b8e186"
            ],
            [
             0.8,
             "#7fbc41"
            ],
            [
             0.9,
             "#4d9221"
            ],
            [
             1,
             "#276419"
            ]
           ],
           "sequential": [
            [
             0,
             "#0d0887"
            ],
            [
             0.1111111111111111,
             "#46039f"
            ],
            [
             0.2222222222222222,
             "#7201a8"
            ],
            [
             0.3333333333333333,
             "#9c179e"
            ],
            [
             0.4444444444444444,
             "#bd3786"
            ],
            [
             0.5555555555555556,
             "#d8576b"
            ],
            [
             0.6666666666666666,
             "#ed7953"
            ],
            [
             0.7777777777777778,
             "#fb9f3a"
            ],
            [
             0.8888888888888888,
             "#fdca26"
            ],
            [
             1,
             "#f0f921"
            ]
           ],
           "sequentialminus": [
            [
             0,
             "#0d0887"
            ],
            [
             0.1111111111111111,
             "#46039f"
            ],
            [
             0.2222222222222222,
             "#7201a8"
            ],
            [
             0.3333333333333333,
             "#9c179e"
            ],
            [
             0.4444444444444444,
             "#bd3786"
            ],
            [
             0.5555555555555556,
             "#d8576b"
            ],
            [
             0.6666666666666666,
             "#ed7953"
            ],
            [
             0.7777777777777778,
             "#fb9f3a"
            ],
            [
             0.8888888888888888,
             "#fdca26"
            ],
            [
             1,
             "#f0f921"
            ]
           ]
          },
          "colorway": [
           "#636efa",
           "#EF553B",
           "#00cc96",
           "#ab63fa",
           "#FFA15A",
           "#19d3f3",
           "#FF6692",
           "#B6E880",
           "#FF97FF",
           "#FECB52"
          ],
          "font": {
           "color": "#2a3f5f"
          },
          "geo": {
           "bgcolor": "white",
           "lakecolor": "white",
           "landcolor": "#E5ECF6",
           "showlakes": true,
           "showland": true,
           "subunitcolor": "white"
          },
          "hoverlabel": {
           "align": "left"
          },
          "hovermode": "closest",
          "mapbox": {
           "style": "light"
          },
          "paper_bgcolor": "white",
          "plot_bgcolor": "#E5ECF6",
          "polar": {
           "angularaxis": {
            "gridcolor": "white",
            "linecolor": "white",
            "ticks": ""
           },
           "bgcolor": "#E5ECF6",
           "radialaxis": {
            "gridcolor": "white",
            "linecolor": "white",
            "ticks": ""
           }
          },
          "scene": {
           "xaxis": {
            "backgroundcolor": "#E5ECF6",
            "gridcolor": "white",
            "gridwidth": 2,
            "linecolor": "white",
            "showbackground": true,
            "ticks": "",
            "zerolinecolor": "white"
           },
           "yaxis": {
            "backgroundcolor": "#E5ECF6",
            "gridcolor": "white",
            "gridwidth": 2,
            "linecolor": "white",
            "showbackground": true,
            "ticks": "",
            "zerolinecolor": "white"
           },
           "zaxis": {
            "backgroundcolor": "#E5ECF6",
            "gridcolor": "white",
            "gridwidth": 2,
            "linecolor": "white",
            "showbackground": true,
            "ticks": "",
            "zerolinecolor": "white"
           }
          },
          "shapedefaults": {
           "line": {
            "color": "#2a3f5f"
           }
          },
          "ternary": {
           "aaxis": {
            "gridcolor": "white",
            "linecolor": "white",
            "ticks": ""
           },
           "baxis": {
            "gridcolor": "white",
            "linecolor": "white",
            "ticks": ""
           },
           "bgcolor": "#E5ECF6",
           "caxis": {
            "gridcolor": "white",
            "linecolor": "white",
            "ticks": ""
           }
          },
          "title": {
           "x": 0.05
          },
          "xaxis": {
           "automargin": true,
           "gridcolor": "white",
           "linecolor": "white",
           "ticks": "",
           "title": {
            "standoff": 15
           },
           "zerolinecolor": "white",
           "zerolinewidth": 2
          },
          "yaxis": {
           "automargin": true,
           "gridcolor": "white",
           "linecolor": "white",
           "ticks": "",
           "title": {
            "standoff": 15
           },
           "zerolinecolor": "white",
           "zerolinewidth": 2
          }
         }
        },
        "xaxis": {
         "anchor": "y",
         "autorange": true,
         "domain": [
          0,
          1
         ],
         "range": [
          "1999-12-31",
          "2021-12-31"
         ],
         "title": {
          "text": "Date"
         },
         "type": "date"
        },
        "yaxis": {
         "anchor": "x",
         "autorange": true,
         "domain": [
          0,
          1
         ],
         "range": [
          171.24637952804414,
          12326.141033802076
         ],
         "title": {
          "text": "Index Level"
         },
         "type": "linear"
        }
       }
      },
      "image/png": "[encoded data removed]",
      "text/html": [
       "<div>                            <div id=\"90aed6ff-81d8-49c7-b772-7235702d19ce\" class=\"plotly-graph-div\" style=\"height:525px; width:100%;\"></div>            <script type=\"text/javascript\">                require([\"plotly\"], function(Plotly) {                    window.PLOTLYENV=window.PLOTLYENV || {};                                    if (document.getElementById(\"90aed6ff-81d8-49c7-b772-7235702d19ce\")) {                    Plotly.newPlot(                        \"90aed6ff-81d8-49c7-b772-7235702d19ce\",                        [{\"hovertemplate\":\"Date=%{x}<br>Index Level=%{y}<extra></extra>\",\"legendgroup\":\"\",\"line\":{\"color\":\"#636efa\",\"dash\":\"solid\"},\"marker\":{\"symbol\":\"circle\"},\"mode\":\"lines\",\"name\":\"\",\"orientation\":\"v\",\"showlegend\":false,\"x\":[\"1999-12-31T00:00:00\",\"2000-01-31T00:00:00\",\"2000-02-29T00:00:00\",\"2000-03-31T00:00:00\",\"2000-04-28T00:00:00\",\"2000-05-31T00:00:00\",\"2000-06-30T00:00:00\",\"2000-07-31T00:00:00\",\"2000-08-31T00:00:00\",\"2000-09-29T00:00:00\",\"2000-10-31T00:00:00\",\"2000-11-30T00:00:00\",\"2000-12-29T00:00:00\",\"2001-01-31T00:00:00\",\"2001-02-28T00:00:00\",\"2001-03-30T00:00:00\",\"2001-04-30T00:00:00\",\"2001-05-31T00:00:00\",\"2001-06-29T00:00:00\",\"2001-07-31T00:00:00\",\"2001-08-31T00:00:00\",\"2001-09-28T00:00:00\",\"2001-10-31T00:00:00\",\"2001-11-30T00:00:00\",\"2001-12-31T00:00:00\",\"2002-01-31T00:00:00\",\"2002-02-28T00:00:00\",\"2002-03-28T00:00:00\",\"2002-04-30T00:00:00\",\"2002-05-31T00:00:00\",\"2002-06-28T00:00:00\",\"2002-07-31T00:00:00\",\"2002-08-30T00:00:00\",\"2002-09-30T00:00:00\",\"2002-10-31T00:00:00\",\"2002-11-29T00:00:00\",\"2002-12-31T00:00:00\",\"2003-01-31T00:00:00\",\"2003-02-28T00:00:00\",\"2003-03-31T00:00:00\",\"2003-04-30T00:00:00\",\"2003-05-30T00:00:00\",\"2003-06-30T00:00:00\",\"2003-07-31T00:00:00\",\"2003-08-29T00:00:00\",\"2003-09-30T00:00:00\",\"2003-10-31T00:00:00\",\"2003-11-28T00:00:00\",\"2003-12-31T00:00:00\",\"2004-01-30T00:00:00\",\"2004-02-27T00:00:00\",\"2004-03-31T00:00:00\",\"2004-04-30T00:00:00\",\"2004-05-28T00:00:00\",\"2004-06-30T00:00:00\",\"2004-07-30T00:00:00\",\"2004-08-31T00:00:00\",\"2004-09-30T00:00:00\",\"2004-10-29T00:00:00\",\"2004-11-30T00:00:00\",\"2004-12-31T00:00:00\",\"2005-01-31T00:00:00\",\"2005-02-28T00:00:00\",\"2005-03-31T00:00:00\",\"2005-04-29T00:00:00\",\"2005-05-31T00:00:00\",\"2005-06-30T00:00:00\",\"2005-07-29T00:00:00\",\"2005-08-31T00:00:00\",\"2005-09-30T00:00:00\",\"2005-10-31T00:00:00\",\"2005-11-30T00:00:00\",\"2005-12-30T00:00:00\",\"2006-01-31T00:00:00\",\"2006-02-28T00:00:00\",\"2006-03-31T00:00:00\",\"2006-04-28T00:00:00\",\"2006-05-31T00:00:00\",\"2006-06-30T00:00:00\",\"2006-07-31T00:00:00\",\"2006-08-31T00:00:00\",\"2006-09-29T00:00:00\",\"2006-10-31T00:00:00\",\"2006-11-30T00:00:00\",\"2006-12-29T00:00:00\",\"2007-01-31T00:00:00\",\"2007-02-28T00:00:00\",\"2007-03-30T00:00:00\",\"2007-04-30T00:00:00\",\"2007-05-31T00:00:00\",\"2007-06-29T00:00:00\",\"2007-07-31T00:00:00\",\"2007-08-31T00:00:00\",\"2007-09-28T00:00:00\",\"2007-10-31T00:00:00\",\"2007-11-30T00:00:00\",\"2007-12-31T00:00:00\",\"2008-01-31T00:00:00\",\"2008-02-29T00:00:00\",\"2008-03-31T00:00:00\",\"2008-04-30T00:00:00\",\"2008-05-30T00:00:00\",\"2008-06-30T00:00:00\",\"2008-07-31T00:00:00\",\"2008-08-29T00:00:00\",\"2008-09-30T00:00:00\",\"2008-10-31T00:00:00\",\"2008-11-28T00:00:00\",\"2008-12-31T00:00:00\",\"2009-01-30T00:00:00\",\"2009-02-27T00:00:00\",\"2009-03-31T00:00:00\",\"2009-04-30T00:00:00\",\"2009-05-29T00:00:00\",\"2009-06-30T00:00:00\",\"2009-07-31T00:00:00\",\"2009-08-31T00:00:00\",\"2009-09-30T00:00:00\",\"2009-10-30T00:00:00\",\"2009-11-30T00:00:00\",\"2009-12-31T00:00:00\",\"2010-01-29T00:00:00\",\"2010-02-26T00:00:00\",\"2010-03-31T00:00:00\",\"2010-04-30T00:00:00\",\"2010-05-28T00:00:00\",\"2010-06-30T00:00:00\",\"2010-07-30T00:00:00\",\"2010-08-31T00:00:00\",\"2010-09-30T00:00:00\",\"2010-10-29T00:00:00\",\"2010-11-30T00:00:00\",\"2010-12-31T00:00:00\",\"2011-01-31T00:00:00\",\"2011-02-28T00:00:00\",\"2011-03-31T00:00:00\",\"2011-04-29T00:00:00\",\"2011-05-31T00:00:00\",\"2011-06-30T00:00:00\",\"2011-07-29T00:00:00\",\"2011-08-31T00:00:00\",\"2011-09-30T00:00:00\",\"2011-10-31T00:00:00\",\"2011-11-30T00:00:00\",\"2011-12-30T00:00:00\",\"2012-01-31T00:00:00\",\"2012-02-29T00:00:00\",\"2012-03-30T00:00:00\",\"2012-04-30T00:00:00\",\"2012-05-31T00:00:00\",\"2012-06-29T00:00:00\",\"2012-07-31T00:00:00\",\"2012-08-31T00:00:00\",\"2012-09-28T00:00:00\",\"2012-10-31T00:00:00\",\"2012-11-30T00:00:00\",\"2012-12-31T00:00:00\",\"2013-01-31T00:00:00\",\"2013-02-28T00:00:00\",\"2013-03-28T00:00:00\",\"2013-04-30T00:00:00\",\"2013-05-31T00:00:00\",\"2013-06-28T00:00:00\",\"2013-07-31T00:00:00\",\"2013-08-30T00:00:00\",\"2013-09-30T00:00:00\",\"2013-10-31T00:00:00\",\"2013-11-29T00:00:00\",\"2013-12-31T00:00:00\",\"2014-01-31T00:00:00\",\"2014-02-28T00:00:00\",\"2014-03-31T00:00:00\",\"2014-04-30T00:00:00\",\"2014-05-30T00:00:00\",\"2014-06-30T00:00:00\",\"2014-07-31T00:00:00\",\"2014-08-29T00:00:00\",\"2014-09-30T00:00:00\",\"2014-10-31T00:00:00\",\"2014-11-28T00:00:00\",\"2014-12-31T00:00:00\",\"2015-01-30T00:00:00\",\"2015-02-27T00:00:00\",\"2015-03-31T00:00:00\",\"2015-04-30T00:00:00\",\"2015-05-29T00:00:00\",\"2015-06-30T00:00:00\",\"2015-07-31T00:00:00\",\"2015-08-31T00:00:00\",\"2015-09-30T00:00:00\",\"2015-10-30T00:00:00\",\"2015-11-30T00:00:00\",\"2015-12-31T00:00:00\",\"2016-01-29T00:00:00\",\"2016-02-29T00:00:00\",\"2016-03-31T00:00:00\",\"2016-04-29T00:00:00\",\"2016-05-31T00:00:00\",\"2016-06-30T00:00:00\",\"2016-07-29T00:00:00\",\"2016-08-31T00:00:00\",\"2016-09-30T00:00:00\",\"2016-10-31T00:00:00\",\"2016-11-30T00:00:00\",\"2016-12-30T00:00:00\",\"2017-01-31T00:00:00\",\"2017-02-28T00:00:00\",\"2017-03-31T00:00:00\",\"2017-04-28T00:00:00\",\"2017-05-31T00:00:00\",\"2017-06-30T00:00:00\",\"2017-07-31T00:00:00\",\"2017-08-31T00:00:00\",\"2017-09-29T00:00:00\",\"2017-10-31T00:00:00\",\"2017-11-30T00:00:00\",\"2017-12-29T00:00:00\",\"2018-01-31T00:00:00\",\"2018-02-28T00:00:00\",\"2018-03-29T00:00:00\",\"2018-04-30T00:00:00\",\"2018-05-31T00:00:00\",\"2018-06-29T00:00:00\",\"2018-07-31T00:00:00\",\"2018-08-31T00:00:00\",\"2018-09-28T00:00:00\",\"2018-10-31T00:00:00\",\"2018-11-30T00:00:00\",\"2018-12-31T00:00:00\",\"2019-01-31T00:00:00\",\"2019-02-28T00:00:00\",\"2019-03-29T00:00:00\",\"2019-04-30T00:00:00\",\"2019-05-31T00:00:00\",\"2019-06-28T00:00:00\",\"2019-07-31T00:00:00\",\"2019-08-30T00:00:00\",\"2019-09-30T00:00:00\",\"2019-10-31T00:00:00\",\"2019-11-29T00:00:00\",\"2019-12-31T00:00:00\",\"2020-01-31T00:00:00\",\"2020-02-28T00:00:00\",\"2020-03-31T00:00:00\",\"2020-04-30T00:00:00\",\"2020-05-29T00:00:00\",\"2020-06-30T00:00:00\",\"2020-07-31T00:00:00\",\"2020-08-31T00:00:00\",\"2020-09-30T00:00:00\",\"2020-10-30T00:00:00\",\"2020-11-30T00:00:00\",\"2020-12-31T00:00:00\",\"2021-01-29T00:00:00\",\"2021-02-26T00:00:00\",\"2021-03-31T00:00:00\",\"2021-04-30T00:00:00\",\"2021-05-28T00:00:00\",\"2021-06-30T00:00:00\",\"2021-07-30T00:00:00\",\"2021-08-31T00:00:00\",\"2021-09-30T00:00:00\",\"2021-10-29T00:00:00\",\"2021-11-30T00:00:00\",\"2021-12-31T00:00:00\"],\"xaxis\":\"x\",\"y\":[1000.0,981.118757372584,899.2144015285435,1006.5794847553543,993.3078967449055,982.448952560603,1001.8573788350253,1015.7999268061593,1067.9244139697917,1023.2262327824546,1053.6342293054038,1025.7406402050358,1051.722546817903,1087.1257391218937,1014.2705486425023,957.8007327793604,1041.5193866150955,1049.4576433650439,1003.9364226598719,1023.0513539364408,982.6656310214311,882.4803765118796,928.9704141775866,1013.5214526054764,1024.4908541925524,1030.7475413806994,1031.5504568935905,1078.6968353112302,1039.5126805420773,1030.5694972640176,958.7998958787539,887.1811012707785,880.641761007414,778.9911122417458,866.0591993250883,919.9251661909592,856.9151399559662,844.5132809424182,840.1059212551487,858.9622452299506,923.192651054392,981.5580765088238,1007.041026258985,1039.1109958027869,1057.4258338273128,1047.716243740966,1115.9414873972155,1115.0158387808556,1170.259524120288,1194.7720118752675,1218.640575066989,1204.2755818510782,1186.3729822997075,1198.0872560211353,1235.3206306545396,1200.0136429041843,1205.6477439079788,1208.48748326871,1241.611129100216,1302.3172343686492,1340.3933279300452,1328.074002816347,1363.2299345922077,1344.2229985339636,1306.0064889315079,1355.3649412714612,1339.0438887873622,1416.8982367242097,1400.0724984871724,1419.282138810057,1415.3639276348233,1482.4387055536488,1467.1868559573845,1489.4365432741859,1515.9785099044066,1523.272127410752,1530.81631306841,1489.4461705253348,1498.6488750643905,1516.233768069474,1553.750477282392,1619.4068147147227,1682.7992028421854,1715.1672663185075,1752.6853583072711,1770.4750576409804,1729.9465354005133,1737.8158451011545,1849.50036593637,1921.7294411113724,1890.6709812381175,1872.196251466373,1894.6233554424925,1979.6953857585543,2047.6945348798417,1991.2332960100307,1983.9712360981682,1849.440064786433,1787.5792057947774,1807.0176708148356,1892.3800947940729,1906.4975598195665,1730.7740620044137,1761.0236249764594,1822.2839217399096,1701.3461523753897,1482.4949263462609,1398.31576069332,1420.4616354267673,1326.2619912360515,1195.7870614852648,1316.3347147641591,1473.9460105175674,1539.1575884494525,1535.1735514056088,1691.6754814643862,1762.1591715342854,1823.3028448819305,1809.541962453235,1936.427152764702,1966.05621497787,1908.6152609617436,1970.5196240841328,2092.170195734385,2109.1514174755216,1965.6505256744326,1881.506646226026,2019.5193024801265,1928.077776398434,2104.205285040501,2178.1642783855864,2165.6093576922062,2280.2468661275884,2327.5195371530244,2379.987175587512,2374.119175572415,2480.2534526492864,2461.966781192283,2430.170405390855,2395.9201411829113,2311.739986695672,2189.5405548013377,2410.072580470711,2420.9844874016935,2479.6874233797093,2607.2351537937657,2704.380567526334,2797.1115628461434,2799.8605278206137,2639.2626144540336,2722.9587162545527,2785.745041894484,2845.779983597453,2905.811701217655,2864.3376587053294,2869.1228374915318,2898.405390167471,3042.965953503277,3102.2879440020297,3245.5973608347754,3362.9479147378534,3442.8556021133018,3402.6438212460953,3540.6246296380905,3428.945927537816,3538.164240991723,3667.930051403093,3799.1620592256127,3875.8682224279546,3712.7373480574006,3882.8645619168306,3938.757828161969,3990.053499218314,4076.0866231941163,4152.278684036195,4123.490442866914,4287.943045225832,4287.482747692791,4394.988565811698,4570.6497447566235,4539.150650114375,4375.108861931095,4644.643853254825,4575.976668464792,4620.8139534690345,4682.696301235231,4576.157018517509,4685.066902443874,4395.018587128076,4330.536304434856,4683.689093869728,4708.331648223951,4671.675237413277,4463.960328028012,4458.879098770856,4800.659700584989,4787.779546045127,4826.772291745429,4885.1493597004755,5038.294527331399,5072.608075088411,5071.493812380964,4986.1939724164495,5221.336310087492,5377.434539837484,5447.195402817168,5739.431402546916,5689.388262922445,5776.387823517458,5788.564124618884,5881.039020283647,6057.191988039263,6078.039579373807,6200.419642748522,6415.576545540902,6717.92511533562,6844.4315944449945,7192.022874579949,6882.447856987024,6714.394796675781,6770.1601294033435,6816.395975938401,6832.076201766193,7172.558953694907,7380.755941083255,7526.037521529452,7271.150838012328,7538.459721811331,6928.2744291447225,7336.997487756664,7614.671364855739,7694.266678819618,7889.344928872526,7424.335074995622,7993.031881209179,8110.52996186599,8006.568877833832,8199.101736924142,8286.703793450404,8602.754303895696,8811.930471706095,8667.59940203628,7859.442194459457,7036.749289511333,7713.0660636702905,8011.712676670615,8082.8982831857875,8215.112236021945,8725.337707729217,8554.256413187515,8203.216471925263,9296.733900023353,9683.115150610409,9596.64703559932,9925.348346766847,10659.586877874342,10804.327262164212,11017.106507892402,11049.109182231461,11158.993398273813,11319.801843483496,10845.419377860173,11373.659500352755,10961.178781428403,11718.396301088374],\"yaxis\":\"y\",\"type\":\"scatter\"}],                        {\"template\":{\"data\":{\"histogram2dcontour\":[{\"type\":\"histogram2dcontour\",\"colorbar\":{\"outlinewidth\":0,\"ticks\":\"\"},\"colorscale\":[[0.0,\"#0d0887\"],[0.1111111111111111,\"#46039f\"],[0.2222222222222222,\"#7201a8\"],[0.3333333333333333,\"#9c179e\"],[0.4444444444444444,\"#bd3786\"],[0.5555555555555556,\"#d8576b\"],[0.6666666666666666,\"#ed7953\"],[0.7777777777777778,\"#fb9f3a\"],[0.8888888888888888,\"#fdca26\"],[1.0,\"#f0f921\"]]}],\"choropleth\":[{\"type\":\"choropleth\",\"colorbar\":{\"outlinewidth\":0,\"ticks\":\"\"}}],\"histogram2d\":[{\"type\":\"histogram2d\",\"colorbar\":{\"outlinewidth\":0,\"ticks\":\"\"},\"colorscale\":[[0.0,\"#0d0887\"],[0.1111111111111111,\"#46039f\"],[0.2222222222222222,\"#7201a8\"],[0.3333333333333333,\"#9c179e\"],[0.4444444444444444,\"#bd3786\"],[0.5555555555555556,\"#d8576b\"],[0.6666666666666666,\"#ed7953\"],[0.7777777777777778,\"#fb9f3a\"],[0.8888888888888888,\"#fdca26\"],[1.0,\"#f0f921\"]]}],\"heatmap\":[{\"type\":\"heatmap\",\"colorbar\":{\"outlinewidth\":0,\"ticks\":\"\"},\"colorscale\":[[0.0,\"#0d0887\"],[0.1111111111111111,\"#46039f\"],[0.2222222222222222,\"#7201a8\"],[0.3333333333333333,\"#9c179e\"],[0.4444444444444444,\"#bd3786\"],[0.5555555555555556,\"#d8576b\"],[0.6666666666666666,\"#ed7953\"],[0.7777777777777778,\"#fb9f3a\"],[0.8888888888888888,\"#fdca26\"],[1.0,\"#f0f921\"]]}],\"heatmapgl\":[{\"type\":\"heatmapgl\",\"colorbar\":{\"outlinewidth\":0,\"ticks\":\"\"},\"colorscale\":[[0.0,\"#0d0887\"],[0.1111111111111111,\"#46039f\"],[0.2222222222222222,\"#7201a8\"],[0.3333333333333333,\"#9c179e\"],[0.4444444444444444,\"#bd3786\"],[0.5555555555555556,\"#d8576b\"],[0.6666666666666666,\"#ed7953\"],[0.7777777777777778,\"#fb9f3a\"],[0.8888888888888888,\"#fdca26\"],[1.0,\"#f0f921\"]]}],\"contourcarpet\":[{\"type\":\"contourcarpet\",\"colorbar\":{\"outlinewidth\":0,\"ticks\":\"\"}}],\"contour\":[{\"type\":\"contour\",\"colorbar\":{\"outlinewidth\":0,\"ticks\":\"\"},\"colorscale\":[[0.0,\"#0d0887\"],[0.1111111111111111,\"#46039f\"],[0.2222222222222222,\"#7201a8\"],[0.3333333333333333,\"#9c179e\"],[0.4444444444444444,\"#bd3786\"],[0.5555555555555556,\"#d8576b\"],[0.6666666666666666,\"#ed7953\"],[0.7777777777777778,\"#fb9f3a\"],[0.8888888888888888,\"#fdca26\"],[1.0,\"#f0f921\"]]}],\"surface\":[{\"type\":\"surface\",\"colorbar\":{\"outlinewidth\":0,\"ticks\":\"\"},\"colorscale\":[[0.0,\"#0d0887\"],[0.1111111111111111,\"#46039f\"],[0.2222222222222222,\"#7201a8\"],[0.3333333333333333,\"#9c179e\"],[0.4444444444444444,\"#bd3786\"],[0.5555555555555556,\"#d8576b\"],[0.6666666666666666,\"#ed7953\"],[0.7777777777777778,\"#fb9f3a\"],[0.8888888888888888,\"#fdca26\"],[1.0,\"#f0f921\"]]}],\"mesh3d\":[{\"type\":\"mesh3d\",\"colorbar\":{\"outlinewidth\":0,\"ticks\":\"\"}}],\"scatter\":[{\"fillpattern\":{\"fillmode\":\"overlay\",\"size\":10,\"solidity\":0.2},\"type\":\"scatter\"}],\"parcoords\":[{\"type\":\"parcoords\",\"line\":{\"colorbar\":{\"outlinewidth\":0,\"ticks\":\"\"}}}],\"scatterpolargl\":[{\"type\":\"scatterpolargl\",\"marker\":{\"colorbar\":{\"outlinewidth\":0,\"ticks\":\"\"}}}],\"bar\":[{\"error_x\":{\"color\":\"#2a3f5f\"},\"error_y\":{\"color\":\"#2a3f5f\"},\"marker\":{\"line\":{\"color\":\"#E5ECF6\",\"width\":0.5},\"pattern\":{\"fillmode\":\"overlay\",\"size\":10,\"solidity\":0.2}},\"type\":\"bar\"}],\"scattergeo\":[{\"type\":\"scattergeo\",\"marker\":{\"colorbar\":{\"outlinewidth\":0,\"ticks\":\"\"}}}],\"scatterpolar\":[{\"type\":\"scatterpolar\",\"marker\":{\"colorbar\":{\"outlinewidth\":0,\"ticks\":\"\"}}}],\"histogram\":[{\"marker\":{\"pattern\":{\"fillmode\":\"overlay\",\"size\":10,\"solidity\":0.2}},\"type\":\"histogram\"}],\"scattergl\":[{\"type\":\"scattergl\",\"marker\":{\"colorbar\":{\"outlinewidth\":0,\"ticks\":\"\"}}}],\"scatter3d\":[{\"type\":\"scatter3d\",\"line\":{\"colorbar\":{\"outlinewidth\":0,\"ticks\":\"\"}},\"marker\":{\"colorbar\":{\"outlinewidth\":0,\"ticks\":\"\"}}}],\"scattermapbox\":[{\"type\":\"scattermapbox\",\"marker\":{\"colorbar\":{\"outlinewidth\":0,\"ticks\":\"\"}}}],\"scatterternary\":[{\"type\":\"scatterternary\",\"marker\":{\"colorbar\":{\"outlinewidth\":0,\"ticks\":\"\"}}}],\"scattercarpet\":[{\"type\":\"scattercarpet\",\"marker\":{\"colorbar\":{\"outlinewidth\":0,\"ticks\":\"\"}}}],\"carpet\":[{\"aaxis\":{\"endlinecolor\":\"#2a3f5f\",\"gridcolor\":\"white\",\"linecolor\":\"white\",\"minorgridcolor\":\"white\",\"startlinecolor\":\"#2a3f5f\"},\"baxis\":{\"endlinecolor\":\"#2a3f5f\",\"gridcolor\":\"white\",\"linecolor\":\"white\",\"minorgridcolor\":\"white\",\"startlinecolor\":\"#2a3f5f\"},\"type\":\"carpet\"}],\"table\":[{\"cells\":{\"fill\":{\"color\":\"#EBF0F8\"},\"line\":{\"color\":\"white\"}},\"header\":{\"fill\":{\"color\":\"#C8D4E3\"},\"line\":{\"color\":\"white\"}},\"type\":\"table\"}],\"barpolar\":[{\"marker\":{\"line\":{\"color\":\"#E5ECF6\",\"width\":0.5},\"pattern\":{\"fillmode\":\"overlay\",\"size\":10,\"solidity\":0.2}},\"type\":\"barpolar\"}],\"pie\":[{\"automargin\":true,\"type\":\"pie\"}]},\"layout\":{\"autotypenumbers\":\"strict\",\"colorway\":[\"#636efa\",\"#EF553B\",\"#00cc96\",\"#ab63fa\",\"#FFA15A\",\"#19d3f3\",\"#FF6692\",\"#B6E880\",\"#FF97FF\",\"#FECB52\"],\"font\":{\"color\":\"#2a3f5f\"},\"hovermode\":\"closest\",\"hoverlabel\":{\"align\":\"left\"},\"paper_bgcolor\":\"white\",\"plot_bgcolor\":\"#E5ECF6\",\"polar\":{\"bgcolor\":\"#E5ECF6\",\"angularaxis\":{\"gridcolor\":\"white\",\"linecolor\":\"white\",\"ticks\":\"\"},\"radialaxis\":{\"gridcolor\":\"white\",\"linecolor\":\"white\",\"ticks\":\"\"}},\"ternary\":{\"bgcolor\":\"#E5ECF6\",\"aaxis\":{\"gridcolor\":\"white\",\"linecolor\":\"white\",\"ticks\":\"\"},\"baxis\":{\"gridcolor\":\"white\",\"linecolor\":\"white\",\"ticks\":\"\"},\"caxis\":{\"gridcolor\":\"white\",\"linecolor\":\"white\",\"ticks\":\"\"}},\"coloraxis\":{\"colorbar\":{\"outlinewidth\":0,\"ticks\":\"\"}},\"colorscale\":{\"sequential\":[[0.0,\"#0d0887\"],[0.1111111111111111,\"#46039f\"],[0.2222222222222222,\"#7201a8\"],[0.3333333333333333,\"#9c179e\"],[0.4444444444444444,\"#bd3786\"],[0.5555555555555556,\"#d8576b\"],[0.6666666666666666,\"#ed7953\"],[0.7777777777777778,\"#fb9f3a\"],[0.8888888888888888,\"#fdca26\"],[1.0,\"#f0f921\"]],\"sequentialminus\":[[0.0,\"#0d0887\"],[0.1111111111111111,\"#46039f\"],[0.2222222222222222,\"#7201a8\"],[0.3333333333333333,\"#9c179e\"],[0.4444444444444444,\"#bd3786\"],[0.5555555555555556,\"#d8576b\"],[0.6666666666666666,\"#ed7953\"],[0.7777777777777778,\"#fb9f3a\"],[0.8888888888888888,\"#fdca26\"],[1.0,\"#f0f921\"]],\"diverging\":[[0,\"#8e0152\"],[0.1,\"#c51b7d\"],[0.2,\"#de77ae\"],[0.3,\"#f1b6da\"],[0.4,\"#fde0ef\"],[0.5,\"#f7f7f7\"],[0.6,\"#e6f5d0\"],[0.7,\"#b8e186\"],[0.8,\"#7fbc41\"],[0.9,\"#4d9221\"],[1,\"#276419\"]]},\"xaxis\":{\"gridcolor\":\"white\",\"linecolor\":\"white\",\"ticks\":\"\",\"title\":{\"standoff\":15},\"zerolinecolor\":\"white\",\"automargin\":true,\"zerolinewidth\":2},\"yaxis\":{\"gridcolor\":\"white\",\"linecolor\":\"white\",\"ticks\":\"\",\"title\":{\"standoff\":15},\"zerolinecolor\":\"white\",\"automargin\":true,\"zerolinewidth\":2},\"scene\":{\"xaxis\":{\"backgroundcolor\":\"#E5ECF6\",\"gridcolor\":\"white\",\"linecolor\":\"white\",\"showbackground\":true,\"ticks\":\"\",\"zerolinecolor\":\"white\",\"gridwidth\":2},\"yaxis\":{\"backgroundcolor\":\"#E5ECF6\",\"gridcolor\":\"white\",\"linecolor\":\"white\",\"showbackground\":true,\"ticks\":\"\",\"zerolinecolor\":\"white\",\"gridwidth\":2},\"zaxis\":{\"backgroundcolor\":\"#E5ECF6\",\"gridcolor\":\"white\",\"linecolor\":\"white\",\"showbackground\":true,\"ticks\":\"\",\"zerolinecolor\":\"white\",\"gridwidth\":2}},\"shapedefaults\":{\"line\":{\"color\":\"#2a3f5f\"}},\"annotationdefaults\":{\"arrowcolor\":\"#2a3f5f\",\"arrowhead\":0,\"arrowwidth\":1},\"geo\":{\"bgcolor\":\"white\",\"landcolor\":\"#E5ECF6\",\"subunitcolor\":\"white\",\"showland\":true,\"showlakes\":true,\"lakecolor\":\"white\"},\"title\":{\"x\":0.05},\"mapbox\":{\"style\":\"light\"}}},\"xaxis\":{\"anchor\":\"y\",\"domain\":[0.0,1.0],\"title\":{\"text\":\"Date\"}},\"yaxis\":{\"anchor\":\"x\",\"domain\":[0.0,1.0],\"title\":{\"text\":\"Index Level\"}},\"legend\":{\"tracegroupgap\":0},\"margin\":{\"t\":60},\"annotations\":[{\"align\":\"center\",\"arrowcolor\":\"#636363\",\"arrowhead\":2,\"arrowsize\":1,\"arrowwidth\":2,\"ax\":20,\"ay\":-30,\"bgcolor\":\"#ff7f0e\",\"bordercolor\":\"#c7c7c7\",\"borderpad\":4,\"borderwidth\":2,\"font\":{\"color\":\"#ffffff\",\"family\":\"Courier New, monospace\",\"size\":16},\"opacity\":0.8,\"showarrow\":true,\"text\":\"max=5\",\"x\":[\"2002-09-30T00:00:00\"],\"xref\":\"x\",\"y\":778.9911122417458,\"yref\":\"y\"}]},                        {\"responsive\": true}                    ).then(function(){\n",
       "                            \n",
       "var gd = document.getElementById('90aed6ff-81d8-49c7-b772-7235702d19ce');\n",
       "var x = new MutationObserver(function (mutations, observer) {{\n",
       "        var display = window.getComputedStyle(gd).display;\n",
       "        if (!display || display === 'none') {{\n",
       "            console.log([gd, 'removed!']);\n",
       "            Plotly.purge(gd);\n",
       "            observer.disconnect();\n",
       "        }}\n",
       "}});\n",
       "\n",
       "// Listen for the removal of the full notebook cells\n",
       "var notebookContainer = gd.closest('#notebook-container');\n",
       "if (notebookContainer) {{\n",
       "    x.observe(notebookContainer, {childList: true});\n",
       "}}\n",
       "\n",
       "// Listen for the clearing of the current output cell\n",
       "var outputEl = gd.closest('.output');\n",
       "if (outputEl) {{\n",
       "    x.observe(outputEl, {childList: true});\n",
       "}}\n",
       "\n",
       "                        })                };                });            </script>        </div>"
      ]
     },
     "metadata": {},
     "output_type": "display_data"
    }
   ],
   "source": [
    "index_df.set_index([\"Date\"])\n",
    "plot = index_df.plot(x = \"Date\", y = \"Index Level\")\n",
    "\n",
    "# We need to find (and annotate the min and max)\n",
    "\n",
    "# Min\n",
    "min_y = min(index_df[\"Index Level\"])\n",
    "min_x = index_df[index_df[\"Index Level\"] == min_y][\"Date\"]\n",
    "\n",
    "\n",
    "plot.show()"
   ]
  },
  {
   "cell_type": "code",
   "execution_count": 274,
   "id": "4ab9a72b-71f4-4adf-82d7-153a4391b405",
   "metadata": {},
   "outputs": [
    {
     "data": {
      "text/html": [
       "<div>\n",
       "<style scoped>\n",
       "    .dataframe tbody tr th:only-of-type {\n",
       "        vertical-align: middle;\n",
       "    }\n",
       "\n",
       "    .dataframe tbody tr th {\n",
       "        vertical-align: top;\n",
       "    }\n",
       "\n",
       "    .dataframe thead th {\n",
       "        text-align: right;\n",
       "    }\n",
       "</style>\n",
       "<table border=\"1\" class=\"dataframe\">\n",
       "  <thead>\n",
       "    <tr style=\"text-align: right;\">\n",
       "      <th></th>\n",
       "      <th>Date</th>\n",
       "      <th>Index Level</th>\n",
       "    </tr>\n",
       "  </thead>\n",
       "  <tbody>\n",
       "    <tr>\n",
       "      <th>33</th>\n",
       "      <td>2002-09-30</td>\n",
       "      <td>778.991112</td>\n",
       "    </tr>\n",
       "  </tbody>\n",
       "</table>\n",
       "</div>"
      ],
      "text/plain": [
       "         Date  Index Level\n",
       "33 2002-09-30   778.991112"
      ]
     },
     "execution_count": 274,
     "metadata": {},
     "output_type": "execute_result"
    }
   ],
   "source": [
    "index_df[index_df[\"Index Level\"] == min_y]"
   ]
  },
  {
   "cell_type": "code",
   "execution_count": null,
   "id": "ab28935f-d488-4fd0-9a17-42476b97a1e4",
   "metadata": {},
   "outputs": [],
   "source": []
  }
 ],
 "metadata": {
  "kernelspec": {
   "display_name": "Python 3 (ipykernel)",
   "language": "python",
   "name": "python3"
  },
  "language_info": {
   "codemirror_mode": {
    "name": "ipython",
    "version": 3
   },
   "file_extension": ".py",
   "mimetype": "text/x-python",
   "name": "python",
   "nbconvert_exporter": "python",
   "pygments_lexer": "ipython3",
   "version": "3.9.18"
  }
 },
 "nbformat": 4,
 "nbformat_minor": 5
}
