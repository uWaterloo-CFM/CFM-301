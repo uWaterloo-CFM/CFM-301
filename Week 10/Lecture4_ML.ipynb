{
 "cells": [
  {
   "cell_type": "code",
   "execution_count": 17,
   "id": "nominated-olympus",
   "metadata": {},
   "outputs": [],
   "source": [
    "import numpy as np\n",
    "import pandas as pd\n",
    "import math\n",
    "\n",
    "import tensorflow as tf\n",
    "from tensorflow import keras\n",
    "from tensorflow.keras.models import Sequential\n",
    "from tensorflow.keras.layers import Dense\n",
    "from sklearn.model_selection import GridSearchCV\n",
    "from tensorflow.keras.wrappers.scikit_learn import KerasRegressor\n",
    "from tensorflow.keras.optimizers import Adam\n",
    "from sklearn.model_selection import ParameterGrid\n",
    "from sklearn.metrics import mean_squared_error, r2_score, log_loss, accuracy_score\n",
    "\n",
    "\n",
    "from sklearn.linear_model import LinearRegression\n",
    "from sklearn.ensemble import BaggingRegressor\n",
    "from sklearn.neural_network import MLPClassifier, MLPRegressor\n",
    "\n",
    "import matplotlib.pyplot as plt"
   ]
  },
  {
   "cell_type": "code",
   "execution_count": 18,
   "id": "challenging-expression",
   "metadata": {},
   "outputs": [],
   "source": [
    "# importing the full dataframe from Assignment 5\n",
    "merged_df = pd.read_csv(\"merged_final.csv\")\n",
    "\n",
    "# adding stock value as a column\n",
    "merged_df['value'] = merged_df['PRC'] * merged_df['VOL']"
   ]
  },
  {
   "cell_type": "code",
   "execution_count": 19,
   "id": "7b615af5",
   "metadata": {},
   "outputs": [],
   "source": [
    "rf_month = pd.read_sas(\"ff_factors_monthly.sas7bdat\")\n",
    "\n",
    "rf_month['dateff'] = pd.to_datetime(rf_month['dateff'])\n",
    "#rf_month = rf_month[rf_month['dateff']]\n",
    "rf_month = rf_month[rf_month['dateff'].dt.year >= 1980]\n",
    "rf_month = rf_month[['dateff', 'RF']]\n",
    "\n",
    "def month_format(month):\n",
    "    if len(month) == 1:\n",
    "        month = str(0) + month\n",
    "        return month\n",
    "    else:\n",
    "        return month\n",
    "\n",
    "rf_month['year'] = rf_month['dateff'].apply(lambda x: str(x.year))\n",
    "rf_month['month'] = rf_month['dateff'].apply(lambda x: str(x.month))\n",
    "rf_month['month'] = rf_month['month'].apply(month_format)\n",
    "rf_month['yyyymm'] = rf_month['year'] + rf_month['month']\n",
    "rf_month['yyyymm'] = rf_month['yyyymm'].apply(lambda x: float(x))\n",
    "\n",
    "rf_month = rf_month[['RF', 'yyyymm']]"
   ]
  },
  {
   "cell_type": "code",
   "execution_count": 20,
   "id": "9b983356",
   "metadata": {},
   "outputs": [],
   "source": [
    "# adding risk free rate to merged_df\n",
    "merged_df = merged_df.merge(rf_month, on = ['yyyymm'])\n",
    "\n",
    "# setting index to permno-yyyymm\n",
    "merged_df['permno-yyyymm'] = merged_df['permno'].apply(lambda x: str(x)) + merged_df['yyyymm'].apply(lambda x: str(x)[:-2])\n",
    "merged_df['permno-yyyymm'] = merged_df['permno-yyyymm'].apply(lambda x: int(x))\n",
    "merged_df.set_index(merged_df['permno-yyyymm'], inplace = True)\n",
    "\n",
    "# dropping the permno-yyyymm column\n",
    "merged_df.drop(['permno-yyyymm'], axis= 1, inplace= True)\n",
    "#merged_df.drop(['Unnamed: 0'], axis= 1, inplace= True)"
   ]
  },
  {
   "cell_type": "code",
   "execution_count": 21,
   "id": "standing-network",
   "metadata": {},
   "outputs": [],
   "source": [
    "# validation function\n",
    "def validate_model(model_type, param_grid, x_train, y_train, x_validate, y_validate):\n",
    "    # Special case for LinearRegression because it doesn't have hyperparameters to tune\n",
    "    if model_type == LinearRegression:\n",
    "        model = LinearRegression()\n",
    "        model.fit(x_train, y_train)\n",
    "        pred = model.predict(x_validate)\n",
    "        r2 = r2_score(y_validate, pred)\n",
    "        \n",
    "        return r2\n",
    "    else: # The other cases\n",
    "        \n",
    "        # Establishses the ParameterGrid\n",
    "        model_param_grid = ParameterGrid(param_grid)\n",
    "        \n",
    "        # Initialize values\n",
    "        best_MAE = 0\n",
    "        best_r2 = 1\n",
    "        best_config = None\n",
    "        # Iterate through the parameter grid, fit models to the hyperparameters\n",
    "        # and check for MAE and R2 values\n",
    "        \n",
    "        # each param_config in that validation function would represent 1 combination of the possible parameters.\n",
    "        # for example in Lab 6, when I'm validating for the elastic net regression, I have \n",
    "        # 2 possible hyperparameters: alpha and l1_ratio. \n",
    "        #alpha can take on values 0.0001, 0.0005, etc, and l1_ratio can take on values 0, 1, 0.01. \n",
    "        #So each param_config in the for loop in validate_model would go over 1 possible \n",
    "        #combination of the hyperparameter and keep the one that gives us the best MAE/R2\n",
    "        for param_config in model_param_grid:\n",
    "            curr_config_MAEs = []\n",
    "            model = model_type(**param_config)\n",
    "            model.fit(x_train, y_train)\n",
    "            pred = model.predict(x_validate)\n",
    "            MAE = mean_squared_error(y_validate,pred)\n",
    "            r2 = r2_score(y_validate, pred)\n",
    "            curr_config_MAEs.append(MAE)\n",
    "            if best_MAE == 0 or (MAE < best_MAE):\n",
    "                best_MAE = MAE\n",
    "                best_config = param_config\n",
    "            if best_r2 == 1 or (r2 > best_r2):\n",
    "                best_r2 = r2\n",
    "        return best_config, best_MAE, best_r2"
   ]
  },
  {
   "cell_type": "code",
   "execution_count": 22,
   "id": "fewer-pregnancy",
   "metadata": {},
   "outputs": [],
   "source": [
    "# Predictions\n",
    "def pred(model_type, x_train, y_train, x_test, y_test):\n",
    "    # Fit model and predict \n",
    "    model = model_type.fit(x_train, y_train)\n",
    "    pred = model.predict(x_test)\n",
    "    \n",
    "    # Format prediction as DataFrame\n",
    "    pred_df = pd.DataFrame(pred, columns = ['RET_pred'])\n",
    "    pred_df.set_index(x_test.index, inplace = True)\n",
    "    \n",
    "    r2 = r2_score(y_test, pred)\n",
    "    return pred_df, r2"
   ]
  },
  {
   "cell_type": "code",
   "execution_count": 23,
   "id": "90b11d67",
   "metadata": {},
   "outputs": [],
   "source": [
    "# extracts year from index\n",
    "def year_extract(index):\n",
    "    return int(str(index)[5:])\n",
    "# vectorizes the function\n",
    "vyear_extract = np.vectorize(year_extract)"
   ]
  },
  {
   "cell_type": "code",
   "execution_count": 24,
   "id": "authorized-deposit",
   "metadata": {},
   "outputs": [],
   "source": [
    "# Function to build the portfolio and calculate different performance metrics\n",
    "def portfolio_build(df_pred, model_name, df_realized):\n",
    "    # Get the year\n",
    "    df_pred['yyyymm'] = vyear_extract(df_pred.index.values)\n",
    "    df_pred.sort_values(by = 'yyyymm', inplace = True)\n",
    "    \n",
    "    # Initialize list of values\n",
    "    long_short_lst = []\n",
    "    value_lst = []\n",
    "    \n",
    "    # Iterate over years\n",
    "    for time in df_pred['yyyymm'].unique():\n",
    "        # Subset by year\n",
    "        df_curr = df_pred[df_pred['yyyymm'] == time]\n",
    "        # Sort the values by returns\n",
    "        df_curr = df_curr.sort_values(by = ['RET_pred'], ascending = False)\n",
    "        size = math.floor(df_curr.shape[0]/10)\n",
    "        # Get the top/bottom performing stocks\n",
    "        df_top = df_curr.head(size)\n",
    "        df_bot = df_curr.tail(size)\n",
    "        # Get the actual returns of the predicted top/bottom performers\n",
    "        df_top_realized = df_realized.loc[df_top.index]\n",
    "        df_bot_realized = df_realized.loc[df_bot.index]\n",
    "        \n",
    "    \n",
    "        # Get the mean returns of these top/bottom performers\n",
    "        mu_top = df_top_realized['RET'].mean()\n",
    "        mu_bot = df_bot_realized['RET'].mean()\n",
    "        \n",
    "     \n",
    "        # Get the mean returns by shorting the bottom and going long on the top\n",
    "        long_short = (mu_top - mu_bot)\n",
    "        \n",
    "        value = df_top['value'].sum()\n",
    "        value = value + df_bot['value'].sum()\n",
    "        \n",
    "        long_short_lst.append(long_short)\n",
    "        value_lst.append(value)\n",
    "    \n",
    "    # Get the value for the portfolio\n",
    "    ls_df = pd.DataFrame(long_short_lst, columns = ['ls_ret'], index = df_pred['yyyymm'].unique())\n",
    "    ls_df['value'] = value_lst\n",
    "    \n",
    "    # Calculating cumulative returns\n",
    "    # First we +1 to the returns \n",
    "    # Then we do the cumulative product\n",
    "    ls_df['cumulative_ret']= ls_df['ls_ret'] + 1\n",
    "    ls_df['cumulative_ret'] = ls_df['cumulative_ret'].cumprod()\n",
    "    \n",
    "    # Get mean/std/sharpe ratio for the portfolio\n",
    "    ls_df = pd.merge(ls_df, rf_month, left_index = True, right_index = True)\n",
    "    ls_df['ls_sub_rf'] = ls_df['ls_ret'] - ls_df['RF']\n",
    "    ls_sub_rf_mean = ls_df['ls_sub_rf'].mean()*12\n",
    "    ls_sub_rf_std = ls_df['ls_sub_rf'].std()*math.sqrt(12)\n",
    "    sharpe_ratio = ls_sub_rf_mean/ls_sub_rf_std*math.sqrt(12)\n",
    "    \n",
    "    print(\"The annualized excess return \"+ model_name + \" long short portfolio is: \" + str(ls_sub_rf_mean))\n",
    "    print(\"The annualized std dev of returns of \" + model_name + \" long short portfolio is: \" + str(ls_sub_rf_std))\n",
    "    print(\"The anualized Sharpe ratio of \" + model_name + \" long short portfolio is: \" + str(sharpe_ratio))\n",
    "    \n",
    "    return ls_df, ls_sub_rf_mean, ls_sub_rf_std, sharpe_ratio"
   ]
  },
  {
   "cell_type": "code",
   "execution_count": 25,
   "id": "fifty-reader",
   "metadata": {},
   "outputs": [],
   "source": [
    "# using a 60/20/20 split\n",
    "train, validate, test = \\\n",
    "                        np.split(merged_df.sample(frac=1, random_state=42), \n",
    "                        [int(.6*len(merged_df)), int(.8*len(merged_df))])\n",
    "\n",
    "factors = list(train.columns[9:41])\n",
    "\n",
    "x_train = train[factors]\n",
    "y_train = train['RET']\n",
    "\n",
    "x_validate = validate[factors]\n",
    "y_validate = validate['RET']\n",
    "\n",
    "x_test = test[factors]\n",
    "y_test = test['RET']"
   ]
  },
  {
   "cell_type": "code",
   "execution_count": 26,
   "id": "portable-philadelphia",
   "metadata": {},
   "outputs": [],
   "source": [
    "# random sample of 50 to train, 20 to validate. Makes validation step take about 6 hours on my local machine\n",
    "rand_50_df_train = merged_df.sample(n= 50, random_state= 42)\n",
    "rand_20_df_vali =  merged_df.sample(n=20, random_state= 1)\n",
    "\n",
    "x_train = rand_50_df_train[factors]\n",
    "y_train = rand_50_df_train['RET']\n",
    "\n",
    "x_validate = rand_20_df_vali[factors]\n",
    "y_validate = rand_20_df_vali['RET']"
   ]
  },
  {
   "cell_type": "code",
   "execution_count": 27,
   "id": "designing-density",
   "metadata": {},
   "outputs": [],
   "source": [
    "# Validation parameter grids. This is what I fed into the vali function \n",
    "# and ran it on the computer cluster\n",
    "Pasting_para_grid_dict = {'base_estimator':[MLPRegressor(hidden_layer_sizes=(32,16,8,4),\n",
    "                                  learning_rate= 'adaptive',\n",
    "                                  learning_rate_init= 0.001,\n",
    "                                  alpha= 0.001,\n",
    "                                  solver= 'adam',\n",
    "                                  max_iter= 100)],\n",
    "                  'n_estimators': np.arange(1, 100, 1),\n",
    "                  'max_features': np.arange(1, 32, 1),\n",
    "                  'max_samples': np.arange(0.1, 1.1, 0.1), \n",
    "                  'bootstrap': [False],\n",
    "                  'n_jobs': [-1]}\n",
    "                  \n",
    "Bagging_para_grid_dict = {'base_estimator':[MLPRegressor(hidden_layer_sizes=(32,16,8,4),\n",
    "                                  learning_rate= 'adaptive',\n",
    "                                  learning_rate_init= 0.001,\n",
    "                                  alpha= 0.001,\n",
    "                                  solver= 'adam',\n",
    "                                  max_iter= 100)],\n",
    "                  'max_samples': np.arange(0.1, 1.1, 0.1),\n",
    "                  'n_estimators': np.arange(1, 100, 1),\n",
    "                  'bootstrap': [True],\n",
    "                  'max_features': np.arange(1, 32, 1),\n",
    "                  'n_jobs': [-1]}\n",
    "\n",
    "RandSub_para_grid_dict = {'base_estimator':[MLPRegressor(hidden_layer_sizes=(32,16,8,4),\n",
    "                                  learning_rate= 'adaptive',\n",
    "                                  learning_rate_init= 0.001,\n",
    "                                  alpha= 0.001,\n",
    "                                  solver= 'adam',\n",
    "                                  max_iter= 100)],\n",
    "                  'n_estimators': np.arange(1, 100, 1),\n",
    "                  'max_features': np.arange(1, 32, 1),\n",
    "                  'n_jobs': [-1]}\n",
    "RandPat_para_grid_dict = {'base_estimator':[MLPRegressor(hidden_layer_sizes=(32,16,8,4),\n",
    "                                  learning_rate= 'adaptive',\n",
    "                                  learning_rate_init= 0.001,\n",
    "                                  alpha= 0.001,\n",
    "                                  solver= 'adam',\n",
    "                                  max_iter= 100)],\n",
    "                  'n_estimators': np.arange(1, 100, 1),\n",
    "                  'max_features': np.arange(1, 32, 1),\n",
    "                  'max_samples':np.arange(0.1, 1.1, 0.1),\n",
    "                  'n_jobs': [-1]}"
   ]
  },
  {
   "cell_type": "code",
   "execution_count": 28,
   "id": "peaceful-advance",
   "metadata": {},
   "outputs": [
    {
     "ename": "KeyboardInterrupt",
     "evalue": "",
     "output_type": "error",
     "traceback": [
      "\u001b[1;31m---------------------------------------------------------------------------\u001b[0m",
      "\u001b[1;31mKeyboardInterrupt\u001b[0m                         Traceback (most recent call last)",
      "\u001b[1;32m~\\AppData\\Local\\Temp\\ipykernel_9824\\492862517.py\u001b[0m in \u001b[0;36m<module>\u001b[1;34m\u001b[0m\n\u001b[0;32m      4\u001b[0m \u001b[1;31m# This would have to be run for the other models as well.\u001b[0m\u001b[1;33m\u001b[0m\u001b[1;33m\u001b[0m\u001b[0m\n\u001b[0;32m      5\u001b[0m \u001b[0mPasting_vali_config\u001b[0m\u001b[1;33m,\u001b[0m \u001b[0mPasting_best_MAE\u001b[0m\u001b[1;33m,\u001b[0m \u001b[0mPasting_best_r2\u001b[0m \u001b[1;33m=\u001b[0m\u001b[0;31m \u001b[0m\u001b[0;31m\\\u001b[0m\u001b[1;33m\u001b[0m\u001b[1;33m\u001b[0m\u001b[0m\n\u001b[1;32m----> 6\u001b[1;33m     \u001b[0mvalidate_model\u001b[0m\u001b[1;33m(\u001b[0m\u001b[0mBaggingRegressor\u001b[0m\u001b[1;33m,\u001b[0m \u001b[0mPasting_para_grid_dict\u001b[0m\u001b[1;33m,\u001b[0m \u001b[0mx_train\u001b[0m\u001b[1;33m,\u001b[0m \u001b[0my_train\u001b[0m\u001b[1;33m,\u001b[0m \u001b[0mx_validate\u001b[0m\u001b[1;33m,\u001b[0m \u001b[0my_validate\u001b[0m\u001b[1;33m)\u001b[0m\u001b[1;33m\u001b[0m\u001b[1;33m\u001b[0m\u001b[0m\n\u001b[0m",
      "\u001b[1;32m~\\AppData\\Local\\Temp\\ipykernel_9824\\320745543.py\u001b[0m in \u001b[0;36mvalidate_model\u001b[1;34m(model_type, param_grid, x_train, y_train, x_validate, y_validate)\u001b[0m\n\u001b[0;32m     31\u001b[0m             \u001b[0mmodel\u001b[0m \u001b[1;33m=\u001b[0m \u001b[0mmodel_type\u001b[0m\u001b[1;33m(\u001b[0m\u001b[1;33m**\u001b[0m\u001b[0mparam_config\u001b[0m\u001b[1;33m)\u001b[0m\u001b[1;33m\u001b[0m\u001b[1;33m\u001b[0m\u001b[0m\n\u001b[0;32m     32\u001b[0m             \u001b[0mmodel\u001b[0m\u001b[1;33m.\u001b[0m\u001b[0mfit\u001b[0m\u001b[1;33m(\u001b[0m\u001b[0mx_train\u001b[0m\u001b[1;33m,\u001b[0m \u001b[0my_train\u001b[0m\u001b[1;33m)\u001b[0m\u001b[1;33m\u001b[0m\u001b[1;33m\u001b[0m\u001b[0m\n\u001b[1;32m---> 33\u001b[1;33m             \u001b[0mpred\u001b[0m \u001b[1;33m=\u001b[0m \u001b[0mmodel\u001b[0m\u001b[1;33m.\u001b[0m\u001b[0mpredict\u001b[0m\u001b[1;33m(\u001b[0m\u001b[0mx_validate\u001b[0m\u001b[1;33m)\u001b[0m\u001b[1;33m\u001b[0m\u001b[1;33m\u001b[0m\u001b[0m\n\u001b[0m\u001b[0;32m     34\u001b[0m             \u001b[0mMAE\u001b[0m \u001b[1;33m=\u001b[0m \u001b[0mmean_squared_error\u001b[0m\u001b[1;33m(\u001b[0m\u001b[0my_validate\u001b[0m\u001b[1;33m,\u001b[0m\u001b[0mpred\u001b[0m\u001b[1;33m)\u001b[0m\u001b[1;33m\u001b[0m\u001b[1;33m\u001b[0m\u001b[0m\n\u001b[0;32m     35\u001b[0m             \u001b[0mr2\u001b[0m \u001b[1;33m=\u001b[0m \u001b[0mr2_score\u001b[0m\u001b[1;33m(\u001b[0m\u001b[0my_validate\u001b[0m\u001b[1;33m,\u001b[0m \u001b[0mpred\u001b[0m\u001b[1;33m)\u001b[0m\u001b[1;33m\u001b[0m\u001b[1;33m\u001b[0m\u001b[0m\n",
      "\u001b[1;32m~\\anaconda3\\lib\\site-packages\\sklearn\\ensemble\\_bagging.py\u001b[0m in \u001b[0;36mpredict\u001b[1;34m(self, X)\u001b[0m\n\u001b[0;32m   1127\u001b[0m         )\n\u001b[0;32m   1128\u001b[0m \u001b[1;33m\u001b[0m\u001b[0m\n\u001b[1;32m-> 1129\u001b[1;33m         all_y_hat = Parallel(n_jobs=n_jobs, verbose=self.verbose)(\n\u001b[0m\u001b[0;32m   1130\u001b[0m             delayed(_parallel_predict_regression)(\n\u001b[0;32m   1131\u001b[0m                 \u001b[0mself\u001b[0m\u001b[1;33m.\u001b[0m\u001b[0mestimators_\u001b[0m\u001b[1;33m[\u001b[0m\u001b[0mstarts\u001b[0m\u001b[1;33m[\u001b[0m\u001b[0mi\u001b[0m\u001b[1;33m]\u001b[0m \u001b[1;33m:\u001b[0m \u001b[0mstarts\u001b[0m\u001b[1;33m[\u001b[0m\u001b[0mi\u001b[0m \u001b[1;33m+\u001b[0m \u001b[1;36m1\u001b[0m\u001b[1;33m]\u001b[0m\u001b[1;33m]\u001b[0m\u001b[1;33m,\u001b[0m\u001b[1;33m\u001b[0m\u001b[1;33m\u001b[0m\u001b[0m\n",
      "\u001b[1;32m~\\anaconda3\\lib\\site-packages\\joblib\\parallel.py\u001b[0m in \u001b[0;36m__call__\u001b[1;34m(self, iterable)\u001b[0m\n\u001b[0;32m   1054\u001b[0m \u001b[1;33m\u001b[0m\u001b[0m\n\u001b[0;32m   1055\u001b[0m             \u001b[1;32mwith\u001b[0m \u001b[0mself\u001b[0m\u001b[1;33m.\u001b[0m\u001b[0m_backend\u001b[0m\u001b[1;33m.\u001b[0m\u001b[0mretrieval_context\u001b[0m\u001b[1;33m(\u001b[0m\u001b[1;33m)\u001b[0m\u001b[1;33m:\u001b[0m\u001b[1;33m\u001b[0m\u001b[1;33m\u001b[0m\u001b[0m\n\u001b[1;32m-> 1056\u001b[1;33m                 \u001b[0mself\u001b[0m\u001b[1;33m.\u001b[0m\u001b[0mretrieve\u001b[0m\u001b[1;33m(\u001b[0m\u001b[1;33m)\u001b[0m\u001b[1;33m\u001b[0m\u001b[1;33m\u001b[0m\u001b[0m\n\u001b[0m\u001b[0;32m   1057\u001b[0m             \u001b[1;31m# Make sure that we get a last message telling us we are done\u001b[0m\u001b[1;33m\u001b[0m\u001b[1;33m\u001b[0m\u001b[0m\n\u001b[0;32m   1058\u001b[0m             \u001b[0melapsed_time\u001b[0m \u001b[1;33m=\u001b[0m \u001b[0mtime\u001b[0m\u001b[1;33m.\u001b[0m\u001b[0mtime\u001b[0m\u001b[1;33m(\u001b[0m\u001b[1;33m)\u001b[0m \u001b[1;33m-\u001b[0m \u001b[0mself\u001b[0m\u001b[1;33m.\u001b[0m\u001b[0m_start_time\u001b[0m\u001b[1;33m\u001b[0m\u001b[1;33m\u001b[0m\u001b[0m\n",
      "\u001b[1;32m~\\anaconda3\\lib\\site-packages\\joblib\\parallel.py\u001b[0m in \u001b[0;36mretrieve\u001b[1;34m(self)\u001b[0m\n\u001b[0;32m    933\u001b[0m             \u001b[1;32mtry\u001b[0m\u001b[1;33m:\u001b[0m\u001b[1;33m\u001b[0m\u001b[1;33m\u001b[0m\u001b[0m\n\u001b[0;32m    934\u001b[0m                 \u001b[1;32mif\u001b[0m \u001b[0mgetattr\u001b[0m\u001b[1;33m(\u001b[0m\u001b[0mself\u001b[0m\u001b[1;33m.\u001b[0m\u001b[0m_backend\u001b[0m\u001b[1;33m,\u001b[0m \u001b[1;34m'supports_timeout'\u001b[0m\u001b[1;33m,\u001b[0m \u001b[1;32mFalse\u001b[0m\u001b[1;33m)\u001b[0m\u001b[1;33m:\u001b[0m\u001b[1;33m\u001b[0m\u001b[1;33m\u001b[0m\u001b[0m\n\u001b[1;32m--> 935\u001b[1;33m                     \u001b[0mself\u001b[0m\u001b[1;33m.\u001b[0m\u001b[0m_output\u001b[0m\u001b[1;33m.\u001b[0m\u001b[0mextend\u001b[0m\u001b[1;33m(\u001b[0m\u001b[0mjob\u001b[0m\u001b[1;33m.\u001b[0m\u001b[0mget\u001b[0m\u001b[1;33m(\u001b[0m\u001b[0mtimeout\u001b[0m\u001b[1;33m=\u001b[0m\u001b[0mself\u001b[0m\u001b[1;33m.\u001b[0m\u001b[0mtimeout\u001b[0m\u001b[1;33m)\u001b[0m\u001b[1;33m)\u001b[0m\u001b[1;33m\u001b[0m\u001b[1;33m\u001b[0m\u001b[0m\n\u001b[0m\u001b[0;32m    936\u001b[0m                 \u001b[1;32melse\u001b[0m\u001b[1;33m:\u001b[0m\u001b[1;33m\u001b[0m\u001b[1;33m\u001b[0m\u001b[0m\n\u001b[0;32m    937\u001b[0m                     \u001b[0mself\u001b[0m\u001b[1;33m.\u001b[0m\u001b[0m_output\u001b[0m\u001b[1;33m.\u001b[0m\u001b[0mextend\u001b[0m\u001b[1;33m(\u001b[0m\u001b[0mjob\u001b[0m\u001b[1;33m.\u001b[0m\u001b[0mget\u001b[0m\u001b[1;33m(\u001b[0m\u001b[1;33m)\u001b[0m\u001b[1;33m)\u001b[0m\u001b[1;33m\u001b[0m\u001b[1;33m\u001b[0m\u001b[0m\n",
      "\u001b[1;32m~\\anaconda3\\lib\\site-packages\\joblib\\_parallel_backends.py\u001b[0m in \u001b[0;36mwrap_future_result\u001b[1;34m(future, timeout)\u001b[0m\n\u001b[0;32m    540\u001b[0m         AsyncResults.get from multiprocessing.\"\"\"\n\u001b[0;32m    541\u001b[0m         \u001b[1;32mtry\u001b[0m\u001b[1;33m:\u001b[0m\u001b[1;33m\u001b[0m\u001b[1;33m\u001b[0m\u001b[0m\n\u001b[1;32m--> 542\u001b[1;33m             \u001b[1;32mreturn\u001b[0m \u001b[0mfuture\u001b[0m\u001b[1;33m.\u001b[0m\u001b[0mresult\u001b[0m\u001b[1;33m(\u001b[0m\u001b[0mtimeout\u001b[0m\u001b[1;33m=\u001b[0m\u001b[0mtimeout\u001b[0m\u001b[1;33m)\u001b[0m\u001b[1;33m\u001b[0m\u001b[1;33m\u001b[0m\u001b[0m\n\u001b[0m\u001b[0;32m    543\u001b[0m         \u001b[1;32mexcept\u001b[0m \u001b[0mCfTimeoutError\u001b[0m \u001b[1;32mas\u001b[0m \u001b[0me\u001b[0m\u001b[1;33m:\u001b[0m\u001b[1;33m\u001b[0m\u001b[1;33m\u001b[0m\u001b[0m\n\u001b[0;32m    544\u001b[0m             \u001b[1;32mraise\u001b[0m \u001b[0mTimeoutError\u001b[0m \u001b[1;32mfrom\u001b[0m \u001b[0me\u001b[0m\u001b[1;33m\u001b[0m\u001b[1;33m\u001b[0m\u001b[0m\n",
      "\u001b[1;32m~\\anaconda3\\lib\\concurrent\\futures\\_base.py\u001b[0m in \u001b[0;36mresult\u001b[1;34m(self, timeout)\u001b[0m\n\u001b[0;32m    439\u001b[0m                     \u001b[1;32mreturn\u001b[0m \u001b[0mself\u001b[0m\u001b[1;33m.\u001b[0m\u001b[0m__get_result\u001b[0m\u001b[1;33m(\u001b[0m\u001b[1;33m)\u001b[0m\u001b[1;33m\u001b[0m\u001b[1;33m\u001b[0m\u001b[0m\n\u001b[0;32m    440\u001b[0m \u001b[1;33m\u001b[0m\u001b[0m\n\u001b[1;32m--> 441\u001b[1;33m                 \u001b[0mself\u001b[0m\u001b[1;33m.\u001b[0m\u001b[0m_condition\u001b[0m\u001b[1;33m.\u001b[0m\u001b[0mwait\u001b[0m\u001b[1;33m(\u001b[0m\u001b[0mtimeout\u001b[0m\u001b[1;33m)\u001b[0m\u001b[1;33m\u001b[0m\u001b[1;33m\u001b[0m\u001b[0m\n\u001b[0m\u001b[0;32m    442\u001b[0m \u001b[1;33m\u001b[0m\u001b[0m\n\u001b[0;32m    443\u001b[0m                 \u001b[1;32mif\u001b[0m \u001b[0mself\u001b[0m\u001b[1;33m.\u001b[0m\u001b[0m_state\u001b[0m \u001b[1;32min\u001b[0m \u001b[1;33m[\u001b[0m\u001b[0mCANCELLED\u001b[0m\u001b[1;33m,\u001b[0m \u001b[0mCANCELLED_AND_NOTIFIED\u001b[0m\u001b[1;33m]\u001b[0m\u001b[1;33m:\u001b[0m\u001b[1;33m\u001b[0m\u001b[1;33m\u001b[0m\u001b[0m\n",
      "\u001b[1;32m~\\anaconda3\\lib\\threading.py\u001b[0m in \u001b[0;36mwait\u001b[1;34m(self, timeout)\u001b[0m\n\u001b[0;32m    310\u001b[0m         \u001b[1;32mtry\u001b[0m\u001b[1;33m:\u001b[0m    \u001b[1;31m# restore state no matter what (e.g., KeyboardInterrupt)\u001b[0m\u001b[1;33m\u001b[0m\u001b[1;33m\u001b[0m\u001b[0m\n\u001b[0;32m    311\u001b[0m             \u001b[1;32mif\u001b[0m \u001b[0mtimeout\u001b[0m \u001b[1;32mis\u001b[0m \u001b[1;32mNone\u001b[0m\u001b[1;33m:\u001b[0m\u001b[1;33m\u001b[0m\u001b[1;33m\u001b[0m\u001b[0m\n\u001b[1;32m--> 312\u001b[1;33m                 \u001b[0mwaiter\u001b[0m\u001b[1;33m.\u001b[0m\u001b[0macquire\u001b[0m\u001b[1;33m(\u001b[0m\u001b[1;33m)\u001b[0m\u001b[1;33m\u001b[0m\u001b[1;33m\u001b[0m\u001b[0m\n\u001b[0m\u001b[0;32m    313\u001b[0m                 \u001b[0mgotit\u001b[0m \u001b[1;33m=\u001b[0m \u001b[1;32mTrue\u001b[0m\u001b[1;33m\u001b[0m\u001b[1;33m\u001b[0m\u001b[0m\n\u001b[0;32m    314\u001b[0m             \u001b[1;32melse\u001b[0m\u001b[1;33m:\u001b[0m\u001b[1;33m\u001b[0m\u001b[1;33m\u001b[0m\u001b[0m\n",
      "\u001b[1;31mKeyboardInterrupt\u001b[0m: "
     ]
    }
   ],
   "source": [
    "# This is the sample code for validating the Pasting model\n",
    "# You would get the hyperparameters from pasting_vali_config\n",
    "# Caveat: Each model takes a long time\n",
    "# This part of the code is mannually terminated to save time. Results hence are not optimal\n",
    "\n",
    "# This would have to be run for the other models as well. \n",
    "Pasting_vali_config, Pasting_best_MAE, Pasting_best_r2 = \\\n",
    "    validate_model(BaggingRegressor, Pasting_para_grid_dict, x_train, y_train, x_validate, y_validate)"
   ]
  },
  {
   "cell_type": "code",
   "execution_count": 29,
   "id": "measured-ability",
   "metadata": {},
   "outputs": [],
   "source": [
    "# Pasting -> draw random subset of rows w/o replacement\n",
    "# max_features= total features, max_samples= (from vali), bootstrap = False\n",
    "\n",
    "pasting_pred_df, pasting_pred_r2 = pred(BaggingRegressor(base_estimator = MLPRegressor(hidden_layer_sizes = (32, 16, 8, 4),\n",
    "                                                              learning_rate= 'adaptive',\n",
    "                                                              learning_rate_init= 0.001,\n",
    "                                                              alpha= 0.001,\n",
    "                                                              solver= 'adam',\n",
    "                                                              max_iter= 100),\n",
    "                                 n_estimators= 3,\n",
    "                                 max_features= 32,\n",
    "                                 max_samples= 0.1,\n",
    "                                 bootstrap= False,\n",
    "                                 n_jobs= -1), x_train, y_train, x_test, y_test)"
   ]
  },
  {
   "cell_type": "code",
   "execution_count": 30,
   "id": "recreational-relay",
   "metadata": {},
   "outputs": [],
   "source": [
    "# Bagging -> draw random subset of rows w/ replacement\n",
    "# max_features= total features, max_samples= (from vali), bootstrap = True\n",
    "\n",
    "bagging_pred_df, bagging_pred_r2 = pred(BaggingRegressor(base_estimator = MLPRegressor(hidden_layer_sizes = (32, 16, 8, 4),\n",
    "                                                              learning_rate= 'adaptive',\n",
    "                                                              learning_rate_init= 0.001,\n",
    "                                                              alpha= 0.001,\n",
    "                                                              solver= 'adam',\n",
    "                                                              max_iter= 100),\n",
    "                                 n_estimators= 1,\n",
    "                                 max_features= 32,\n",
    "                                 max_samples= 0.1,\n",
    "                                 bootstrap= True,\n",
    "                                 n_jobs= -1), x_train, y_train, x_test, y_test)"
   ]
  },
  {
   "cell_type": "code",
   "execution_count": 31,
   "id": "monetary-guyana",
   "metadata": {},
   "outputs": [],
   "source": [
    "#Random Subspace -> draw random subset of columns, consider all rows\n",
    "# max_features= (from vali), max_samples= total number of samples (1.0)\n",
    "RandSub_pred_df, RandSub_pred_r2 = pred(BaggingRegressor(base_estimator = MLPRegressor(hidden_layer_sizes = (32, 16, 8, 4),\n",
    "                                                              learning_rate= 'adaptive',\n",
    "                                                              learning_rate_init= 0.001,\n",
    "                                                              alpha= 0.001,\n",
    "                                                              solver= 'adam',\n",
    "                                                              max_iter= 100),\n",
    "                                 n_estimators= 9,\n",
    "                                 max_features= 24,\n",
    "                                 max_samples= 1.0,\n",
    "                                 n_jobs= -1), x_train, y_train, x_test, y_test)"
   ]
  },
  {
   "cell_type": "code",
   "execution_count": 32,
   "id": "clean-reading",
   "metadata": {},
   "outputs": [],
   "source": [
    "# Random Patches -> draw random subset of columns AND rows\n",
    "# max_features= (from vali), max_samples= (from vali)\n",
    "RandPat_pred_df, RandPat_pred_r2 = pred(BaggingRegressor(base_estimator = MLPRegressor(hidden_layer_sizes = (32, 16, 8, 4),\n",
    "                                                              learning_rate= 'adaptive',\n",
    "                                                              learning_rate_init= 0.001,\n",
    "                                                              alpha= 0.001,\n",
    "                                                              solver= 'adam',\n",
    "                                                              max_iter= 100),\n",
    "                                 n_estimators= 3,\n",
    "                                 max_features= 27,\n",
    "                                 max_samples= 0.5,\n",
    "                                 n_jobs= -1), x_train, y_train, x_test, y_test)"
   ]
  },
  {
   "cell_type": "code",
   "execution_count": 33,
   "id": "indian-founder",
   "metadata": {},
   "outputs": [],
   "source": [
    "# Setting rf_df index to match ls_df later\n",
    "rf_month['yyyymm'] = rf_month['yyyymm'].apply(lambda x: int(str(x)[:6]))\n",
    "rf_month.set_index(rf_month['yyyymm'], inplace= True)"
   ]
  },
  {
   "cell_type": "code",
   "execution_count": 34,
   "id": "diagnostic-delta",
   "metadata": {},
   "outputs": [],
   "source": [
    "# adds the stock values to the predicted DataFrames\n",
    "pasting_pred_df = pd.merge(pasting_pred_df, merged_df['value'], left_index=True, right_index=True)\n",
    "bagging_pred_df = pd.merge(bagging_pred_df, merged_df['value'], left_index=True, right_index=True)\n",
    "RandSub_pred_df = pd.merge(RandSub_pred_df, merged_df['value'], left_index=True, right_index=True)\n",
    "RandPat_pred_df = pd.merge(RandPat_pred_df, merged_df['value'], left_index=True, right_index=True)"
   ]
  },
  {
   "cell_type": "code",
   "execution_count": 35,
   "id": "limited-system",
   "metadata": {},
   "outputs": [
    {
     "name": "stdout",
     "output_type": "stream",
     "text": [
      "The annualized excess return Pasting long short portfolio is: 0.028637713793320543\n",
      "The annualized std dev of returns of Pasting long short portfolio is: 0.2401818098339822\n",
      "The anualized Sharpe ratio of Pasting long short portfolio is: 0.4130369018114482\n"
     ]
    }
   ],
   "source": [
    "pasting_ls_df, pasting_ls_sub_rf_mean, pasting_ls_sub_rf_std, pasting_sharpe_ratio = \\\n",
    "portfolio_build(pasting_pred_df, \"Pasting\", merged_df)"
   ]
  },
  {
   "cell_type": "code",
   "execution_count": 36,
   "id": "optional-roots",
   "metadata": {},
   "outputs": [
    {
     "name": "stdout",
     "output_type": "stream",
     "text": [
      "The annualized excess return Bagging long short portfolio is: -0.07610565394321524\n",
      "The annualized std dev of returns of Bagging long short portfolio is: 0.21706536867396964\n",
      "The anualized Sharpe ratio of Bagging long short portfolio is: -1.2145544927610656\n"
     ]
    }
   ],
   "source": [
    "bagging_ls_df, bagging_ls_sub_rf_mean, bagging_ls_sub_rf_std, bagging_sharpe_ratio = \\\n",
    "portfolio_build(bagging_pred_df, \"Bagging\", merged_df)"
   ]
  },
  {
   "cell_type": "code",
   "execution_count": 37,
   "id": "blessed-offer",
   "metadata": {},
   "outputs": [
    {
     "name": "stdout",
     "output_type": "stream",
     "text": [
      "The annualized excess return RandSub long short portfolio is: -0.09161849407049588\n",
      "The annualized std dev of returns of RandSub long short portfolio is: 0.24134673420258354\n",
      "The anualized Sharpe ratio of RandSub long short portfolio is: -1.3150199621913763\n"
     ]
    }
   ],
   "source": [
    "RandSub_ls_df, RandSub_ls_sub_rf_mean, RandSub_ls_sub_rf_std, RandSub_sharpe_ratio = \\\n",
    "portfolio_build(RandSub_pred_df, \"RandSub\", merged_df)"
   ]
  },
  {
   "cell_type": "code",
   "execution_count": 38,
   "id": "southeast-motorcycle",
   "metadata": {},
   "outputs": [
    {
     "name": "stdout",
     "output_type": "stream",
     "text": [
      "The annualized excess return RandPat long short portfolio is: 0.0009739201381921351\n",
      "The annualized std dev of returns of RandPat long short portfolio is: 0.21220978591853987\n",
      "The anualized Sharpe ratio of RandPat long short portfolio is: 0.015898222172570455\n"
     ]
    }
   ],
   "source": [
    "RandPat_ls_df, RandPat_ls_sub_rf_mean, RandPat_ls_sub_rf_std, RandPat_sharpe_ratio = \\\n",
    "portfolio_build(RandPat_pred_df, \"RandPat\", merged_df)"
   ]
  },
  {
   "cell_type": "code",
   "execution_count": 39,
   "id": "german-tension",
   "metadata": {},
   "outputs": [],
   "source": [
    "assignment7_metrics = pd.read_csv(\"assignment7_metrics.csv\")\n",
    "assignment7_values = pd.read_csv(\"assignment7_values.csv\")\n",
    "\n",
    "assignment7_values.drop('Unnamed: 0', axis= 1, inplace= True)\n",
    "assignment7_values.set_index(pasting_ls_df.index, inplace= True)"
   ]
  },
  {
   "cell_type": "code",
   "execution_count": 40,
   "id": "expressed-adams",
   "metadata": {},
   "outputs": [
    {
     "data": {
      "image/png": "[encoded data removed]",
      "text/plain": [
       "<Figure size 640x480 with 1 Axes>"
      ]
     },
     "metadata": {},
     "output_type": "display_data"
    }
   ],
   "source": [
    "# plotting the results\n",
    "plt.plot(pasting_ls_df.index, pasting_ls_df['cumulative_ret'], label = 'pasting')\n",
    "plt.plot(bagging_ls_df.index, bagging_ls_df['cumulative_ret'], label = 'bagging')\n",
    "plt.plot(RandSub_ls_df.index, RandSub_ls_df['cumulative_ret'], label = 'RandSub')\n",
    "plt.plot(RandPat_ls_df.index, RandPat_ls_df['cumulative_ret'], label = 'RandPat')\n",
    "plt.plot(pasting_ls_df.index, assignment7_values['slr_cum_ret'], label = 'SLR')\n",
    "plt.plot(pasting_ls_df.index, assignment7_values['en_cum_ret'], label = 'EN')\n",
    "plt.plot(pasting_ls_df.index, assignment7_values['pls_cum_ret'], label = 'PLS')\n",
    "plt.plot(pasting_ls_df.index, assignment7_values['RF_cum_ret'], label = 'RF')\n",
    "plt.plot(pasting_ls_df.index, assignment7_values['BGDT_cum_ret'], label = 'BGDT')\n",
    "plt.plot(pasting_ls_df.index, assignment7_values['RSDT_cum_ret'], label = 'RSDT')\n",
    "\n",
    "plt.yscale('log')\n",
    "plt.legend()\n",
    "plt.title(\"Rolling average of portfolio values vs Time\")\n",
    "    \n",
    "plt.show()"
   ]
  },
  {
   "cell_type": "code",
   "execution_count": 41,
   "id": "cloudy-darkness",
   "metadata": {},
   "outputs": [],
   "source": [
    "# The r2 scores are attained if you ran the validation_model function\n",
    "# I've just assigned them here since I'm not running the full function which takes time\n",
    "\n",
    "pasting_best_r2 = 0.36701014814926813\n",
    "bagging_best_r2 = 0.298693441995755\n",
    "RandSub_best_r2 = 0.22127375059974574\n",
    "RandPat_best_r2 = 0.3132940862694076"
   ]
  },
  {
   "cell_type": "code",
   "execution_count": 42,
   "id": "hairy-championship",
   "metadata": {},
   "outputs": [
    {
     "name": "stdout",
     "output_type": "stream",
     "text": [
      "Type         Avg Ret    Std. Dev          SR         R^2\n",
      "-------  -----------  ----------  ----------  ----------\n",
      "RF       -0.00425158    0.196793  -0.0748396  0.402336\n",
      "BGDT     -0.00587909    0.174121  -0.116963   0.38204\n",
      "RSDT     -0.110807      0.220856  -1.738      0.202954\n",
      "SLR       0.271556      0.28493    3.30151    0.00460928\n",
      "EN        0.266641      0.297459   3.10521    0.00483712\n",
      "PLS       0.244333      0.290277   2.91582    0.00470622\n",
      "Pasting   0.0286377     0.240182   0.413037   0.36701\n",
      "Bagging  -0.0761057     0.217065  -1.21455    0.298693\n",
      "RandSub  -0.0916185     0.241347  -1.31502    0.221274\n",
      "RandPat   0.00097392    0.21221    0.0158982  0.313294\n"
     ]
    }
   ],
   "source": [
    "from tabulate import tabulate\n",
    "\n",
    "table = [['Type', 'Avg Ret', 'Std. Dev', 'SR', 'R^2'],\n",
    "         [assignment7_metrics['Type'][3], assignment7_metrics['Avg Ret'][3], assignment7_metrics['Std. Dev'][3],\\\n",
    "          assignment7_metrics['SR'][3], assignment7_metrics['R^2'][3]],\n",
    "        [assignment7_metrics['Type'][4], assignment7_metrics['Avg Ret'][4], assignment7_metrics['Std. Dev'][4],\\\n",
    "          assignment7_metrics['SR'][4], assignment7_metrics['R^2'][4]],\n",
    "        [assignment7_metrics['Type'][5], assignment7_metrics['Avg Ret'][5], assignment7_metrics['Std. Dev'][5],\\\n",
    "          assignment7_metrics['SR'][5], assignment7_metrics['R^2'][5]],\\\n",
    "         [assignment7_metrics['Type'][0], assignment7_metrics['Avg Ret'][0], assignment7_metrics['Std. Dev'][0],\\\n",
    "          assignment7_metrics['SR'][0], assignment7_metrics['R^2'][0]],\n",
    "        [assignment7_metrics['Type'][1], assignment7_metrics['Avg Ret'][1], assignment7_metrics['Std. Dev'][1],\\\n",
    "          assignment7_metrics['SR'][1], assignment7_metrics['R^2'][1]],\n",
    "        [assignment7_metrics['Type'][2], assignment7_metrics['Avg Ret'][2], assignment7_metrics['Std. Dev'][2],\\\n",
    "          assignment7_metrics['SR'][2], assignment7_metrics['R^2'][2]],\\\n",
    "         ['Pasting', pasting_ls_sub_rf_mean, pasting_ls_sub_rf_std, pasting_sharpe_ratio, pasting_best_r2],\n",
    "         ['Bagging', bagging_ls_sub_rf_mean, bagging_ls_sub_rf_std, bagging_sharpe_ratio, bagging_best_r2],\n",
    "         ['RandSub', RandSub_ls_sub_rf_mean, RandSub_ls_sub_rf_std, RandSub_sharpe_ratio, RandSub_best_r2],\n",
    "         ['RandPat', RandPat_ls_sub_rf_mean, RandPat_ls_sub_rf_std, RandPat_sharpe_ratio, RandPat_best_r2]]\n",
    "\n",
    "print(tabulate(table, headers='firstrow'))"
   ]
  },
  {
   "cell_type": "code",
   "execution_count": null,
   "id": "e77570cb",
   "metadata": {},
   "outputs": [],
   "source": []
  }
 ],
 "metadata": {
  "kernelspec": {
   "display_name": "Python 3 (ipykernel)",
   "language": "python",
   "name": "python3"
  },
  "language_info": {
   "codemirror_mode": {
    "name": "ipython",
    "version": 3
   },
   "file_extension": ".py",
   "mimetype": "text/x-python",
   "name": "python",
   "nbconvert_exporter": "python",
   "pygments_lexer": "ipython3",
   "version": "3.9.13"
  }
 },
 "nbformat": 4,
 "nbformat_minor": 5
}
