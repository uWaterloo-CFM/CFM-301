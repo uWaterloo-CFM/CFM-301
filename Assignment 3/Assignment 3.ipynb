{
 "cells": [
  {
   "cell_type": "markdown",
   "id": "20116007-76ae-4696-a5e1-b7da834a459b",
   "metadata": {},
   "source": [
    "# Data Assignment 3 - `t54zheng` (20939203)\n"
   ]
  },
  {
   "cell_type": "code",
   "execution_count": 12,
   "id": "67a862a2-f4ea-43a8-933e-52d29bedb73b",
   "metadata": {},
   "outputs": [],
   "source": [
    "import pandas as pd\n",
    "from pandasql import sqldf\n",
    "import matplotlib.pyplot as plt\n",
    "import numpy as np\n",
    "import warnings\n",
    "from sklearn import linear_model\n",
    "import statsmodels.api as sm\n",
    "import scipy.stats as stats\n",
    "warnings.filterwarnings('ignore')"
   ]
  },
  {
   "cell_type": "code",
   "execution_count": 13,
   "id": "44ce71c1-8f82-457d-8288-ef667138593c",
   "metadata": {},
   "outputs": [],
   "source": [
    "crsp = pd.read_excel(\"datasets.xlsx\", sheet_name=\"crsp\", converters={\"DATE\":str})\n",
    "ff5x5 = pd.read_excel(\"datasets.xlsx\", sheet_name=\"ff5x5\")\n",
    "ff3 = pd.read_excel(\"datasets.xlsx\", sheet_name=\"ff3\", converters={\"DATEFF\":str})"
   ]
  },
  {
   "cell_type": "markdown",
   "id": "6b21a66b-6bc0-462c-b3cc-7aa04402c9da",
   "metadata": {},
   "source": [
    "# Task 1 - Estimating Beta for each stock\n",
    "\n",
    "- We wish to estimate the beta for each stock using the CAPM model for every month t between January 2000 and December 2022\n",
    "- We will use an observation window of the past 36 months for each stock.\n",
    "\n",
    "Some stocks may not have data until after Janurary 2000, so if that happens we only look at months t such that there are at least 12 observations prior to (not including) t."
   ]
  },
  {
   "cell_type": "code",
   "execution_count": 14,
   "id": "766d6691-5219-4d42-ad0e-7544e3e06562",
   "metadata": {},
   "outputs": [],
   "source": [
    "nasdaq_100_ret = crsp[[\"PERMNO\", \"DATE\", \"RET\"]]"
   ]
  },
  {
   "cell_type": "code",
   "execution_count": 15,
   "id": "64f5cf71-7d5c-4c68-882e-226b8a8e3ce1",
   "metadata": {},
   "outputs": [
    {
     "data": {
      "text/html": [
       "<div>\n",
       "<style scoped>\n",
       "    .dataframe tbody tr th:only-of-type {\n",
       "        vertical-align: middle;\n",
       "    }\n",
       "\n",
       "    .dataframe tbody tr th {\n",
       "        vertical-align: top;\n",
       "    }\n",
       "\n",
       "    .dataframe thead th {\n",
       "        text-align: right;\n",
       "    }\n",
       "</style>\n",
       "<table border=\"1\" class=\"dataframe\">\n",
       "  <thead>\n",
       "    <tr style=\"text-align: right;\">\n",
       "      <th></th>\n",
       "      <th>DATEFF</th>\n",
       "      <th>SMB</th>\n",
       "      <th>HML</th>\n",
       "      <th>MKTRF</th>\n",
       "      <th>RF</th>\n",
       "      <th>UMD</th>\n",
       "    </tr>\n",
       "  </thead>\n",
       "  <tbody>\n",
       "    <tr>\n",
       "      <th>0</th>\n",
       "      <td>1980-01-31 00:00:00</td>\n",
       "      <td>0.0162</td>\n",
       "      <td>0.0175</td>\n",
       "      <td>0.0551</td>\n",
       "      <td>0.0080</td>\n",
       "      <td>0.0755</td>\n",
       "    </tr>\n",
       "    <tr>\n",
       "      <th>1</th>\n",
       "      <td>1980-02-29 00:00:00</td>\n",
       "      <td>-0.0185</td>\n",
       "      <td>0.0061</td>\n",
       "      <td>-0.0122</td>\n",
       "      <td>0.0089</td>\n",
       "      <td>0.0788</td>\n",
       "    </tr>\n",
       "    <tr>\n",
       "      <th>2</th>\n",
       "      <td>1980-03-31 00:00:00</td>\n",
       "      <td>-0.0664</td>\n",
       "      <td>-0.0101</td>\n",
       "      <td>-0.1290</td>\n",
       "      <td>0.0121</td>\n",
       "      <td>-0.0955</td>\n",
       "    </tr>\n",
       "    <tr>\n",
       "      <th>3</th>\n",
       "      <td>1980-04-30 00:00:00</td>\n",
       "      <td>0.0105</td>\n",
       "      <td>0.0106</td>\n",
       "      <td>0.0397</td>\n",
       "      <td>0.0126</td>\n",
       "      <td>-0.0043</td>\n",
       "    </tr>\n",
       "    <tr>\n",
       "      <th>4</th>\n",
       "      <td>1980-05-30 00:00:00</td>\n",
       "      <td>0.0213</td>\n",
       "      <td>0.0038</td>\n",
       "      <td>0.0526</td>\n",
       "      <td>0.0081</td>\n",
       "      <td>-0.0112</td>\n",
       "    </tr>\n",
       "    <tr>\n",
       "      <th>...</th>\n",
       "      <td>...</td>\n",
       "      <td>...</td>\n",
       "      <td>...</td>\n",
       "      <td>...</td>\n",
       "      <td>...</td>\n",
       "      <td>...</td>\n",
       "    </tr>\n",
       "    <tr>\n",
       "      <th>523</th>\n",
       "      <td>2023-08-31 00:00:00</td>\n",
       "      <td>-0.0316</td>\n",
       "      <td>-0.0106</td>\n",
       "      <td>-0.0239</td>\n",
       "      <td>0.0045</td>\n",
       "      <td>0.0377</td>\n",
       "    </tr>\n",
       "    <tr>\n",
       "      <th>524</th>\n",
       "      <td>2023-09-29 00:00:00</td>\n",
       "      <td>-0.0251</td>\n",
       "      <td>0.0152</td>\n",
       "      <td>-0.0524</td>\n",
       "      <td>0.0043</td>\n",
       "      <td>0.0026</td>\n",
       "    </tr>\n",
       "    <tr>\n",
       "      <th>525</th>\n",
       "      <td>2023-10-31 00:00:00</td>\n",
       "      <td>-0.0387</td>\n",
       "      <td>0.0019</td>\n",
       "      <td>-0.0319</td>\n",
       "      <td>0.0047</td>\n",
       "      <td>0.0173</td>\n",
       "    </tr>\n",
       "    <tr>\n",
       "      <th>526</th>\n",
       "      <td>2023-11-30 00:00:00</td>\n",
       "      <td>-0.0002</td>\n",
       "      <td>0.0164</td>\n",
       "      <td>0.0884</td>\n",
       "      <td>0.0044</td>\n",
       "      <td>0.0275</td>\n",
       "    </tr>\n",
       "    <tr>\n",
       "      <th>527</th>\n",
       "      <td>2023-12-29 00:00:00</td>\n",
       "      <td>0.0635</td>\n",
       "      <td>0.0494</td>\n",
       "      <td>0.0485</td>\n",
       "      <td>0.0043</td>\n",
       "      <td>-0.0556</td>\n",
       "    </tr>\n",
       "  </tbody>\n",
       "</table>\n",
       "<p>528 rows × 6 columns</p>\n",
       "</div>"
      ],
      "text/plain": [
       "                  DATEFF     SMB     HML   MKTRF      RF     UMD\n",
       "0    1980-01-31 00:00:00  0.0162  0.0175  0.0551  0.0080  0.0755\n",
       "1    1980-02-29 00:00:00 -0.0185  0.0061 -0.0122  0.0089  0.0788\n",
       "2    1980-03-31 00:00:00 -0.0664 -0.0101 -0.1290  0.0121 -0.0955\n",
       "3    1980-04-30 00:00:00  0.0105  0.0106  0.0397  0.0126 -0.0043\n",
       "4    1980-05-30 00:00:00  0.0213  0.0038  0.0526  0.0081 -0.0112\n",
       "..                   ...     ...     ...     ...     ...     ...\n",
       "523  2023-08-31 00:00:00 -0.0316 -0.0106 -0.0239  0.0045  0.0377\n",
       "524  2023-09-29 00:00:00 -0.0251  0.0152 -0.0524  0.0043  0.0026\n",
       "525  2023-10-31 00:00:00 -0.0387  0.0019 -0.0319  0.0047  0.0173\n",
       "526  2023-11-30 00:00:00 -0.0002  0.0164  0.0884  0.0044  0.0275\n",
       "527  2023-12-29 00:00:00  0.0635  0.0494  0.0485  0.0043 -0.0556\n",
       "\n",
       "[528 rows x 6 columns]"
      ]
     },
     "execution_count": 15,
     "metadata": {},
     "output_type": "execute_result"
    }
   ],
   "source": [
    "ff3"
   ]
  },
  {
   "cell_type": "code",
   "execution_count": 16,
   "id": "b5a145f0-8c90-4a36-a321-8bc081b93580",
   "metadata": {},
   "outputs": [],
   "source": [
    "permnos = set(list(nasdaq_100_ret.PERMNO))"
   ]
  },
  {
   "cell_type": "code",
   "execution_count": 17,
   "id": "6ccc1fac-add5-4990-8c43-729b795ab5de",
   "metadata": {},
   "outputs": [
    {
     "data": {
      "text/plain": [
       "99"
      ]
     },
     "execution_count": 17,
     "metadata": {},
     "output_type": "execute_result"
    }
   ],
   "source": [
    "len(permnos)"
   ]
  },
  {
   "cell_type": "code",
   "execution_count": 8,
   "id": "4e3842cf-9e48-4a12-a996-3d12b86ae44a",
   "metadata": {},
   "outputs": [],
   "source": [
    "# for permno in permnos:\n",
    "#     permno_returns = nasdaq_100_ret.loc[nasdaq_100_ret[\"PERMNO\"] == permno]\n",
    "#     permno_returns.dropna(inplace=True)\n",
    "#     permno_returns.reset_index(inplace=True) # Reset index for easy accessing later on\n",
    "#     # Calculate beta using 36 month lookback starting in 2000\n",
    "\n",
    "#     # Start date is first date where we have >= 12 observations for a beta observation\n",
    "#     # Start date needs to be past 2000-01-01\n",
    "#     permno_betas = {}\n",
    "#     print(permno_returns.index)\n",
    "#     # for t in range(12, len(permno_returns[\"DATE\"]) - 12):\n",
    "        "
   ]
  },
  {
   "cell_type": "code",
   "execution_count": null,
   "id": "c2f6cdd2-f5aa-453b-bf29-d1f97389c156",
   "metadata": {},
   "outputs": [],
   "source": [
    "permno_beta_dict = {}\n",
    "\n",
    "# Filter into dicts, while removing rows with null returns\n",
    "for permno in permnos:\n",
    "    permno_returns = nasdaq_100_ret.loc[nasdaq_100_ret[\"PERMNO\"] == permno]\n",
    "    permno_returns.dropna(inplace=True)\n",
    "    permno_returns.reset_index(inplace=True) # Reset index for easy accessing later on\n",
    "\n",
    "    # Calculate beta using 36 month lookback starting in 2000\n",
    "\n",
    "    # Start date is first date where we have >= 12 observations for a beta observation\n",
    "    # Start date needs to be past 2000-01-01\n",
    "    permno_betas = {}\n",
    "    for t in range(12, len(permno_returns[\"DATE\"]) - 12):\n",
    "        # Don't predict if date is not on or after 2000-01-01\n",
    "        if permno_returns.iloc[t].DATE < \"2000-01-01\":\n",
    "            continue\n",
    "\n",
    "        date = permno_returns.iloc[t].DATE\n",
    "        est_window_start = t - 35 if t > 35 else 0\n",
    "\n",
    "        est_window_end = t # In indexing actually only goes up to t-1\n",
    "\n",
    "        \n",
    "        est_window_returns = permno_returns.iloc[est_window_start:est_window_end].RET\n",
    "        est_window_returns_dates = permno_returns.iloc[est_window_start:est_window_end].DATE\n",
    "\n",
    "        date_mask = ff3[\"DATEFF\"].isin(est_window_returns_dates)\n",
    "        rf = ff3[date_mask][\"RF\"]\n",
    "        mktrf = ff3[date_mask][[\"MKTRF\"]]\n",
    "\n",
    "        CAPMmodel = linear_model.LinearRegression().fit(mktrf, est_window_returns.values - rf.values)\n",
    "\n",
    "        permno_betas[date] = CAPMmodel.coef_[0]\n",
    "    permno_beta_dict[permno] = permno_betas\n"
   ]
  },
  {
   "cell_type": "code",
   "execution_count": 26,
   "id": "94d338d9-a46d-476d-87d2-ee7c7772cd3d",
   "metadata": {},
   "outputs": [
    {
     "ename": "SyntaxError",
     "evalue": "positional argument follows keyword argument (1000966794.py, line 2)",
     "output_type": "error",
     "traceback": [
      "\u001b[0;36m  Cell \u001b[0;32mIn[26], line 2\u001b[0;36m\u001b[0m\n\u001b[0;31m    permno_beta_dict[permno] = pd.DataFrame.from_dict(permno_beta_dict[permno], orient=\"index\", columns = \"DATE\", \"beta\")\u001b[0m\n\u001b[0m                                                                                                                  ^\u001b[0m\n\u001b[0;31mSyntaxError\u001b[0m\u001b[0;31m:\u001b[0m positional argument follows keyword argument\n"
     ]
    }
   ],
   "source": [
    "for permno in permno_beta_dict:\n",
    "    permno_beta_dict[permno] = pd.DataFrame.from_dict(permno_beta_dict[permno], orient=\"index\", columns = [\"DATE\", \"beta\"])"
   ]
  },
  {
   "cell_type": "code",
   "execution_count": 27,
   "id": "43d53b52-195d-45e8-9760-7a4078689c7f",
   "metadata": {},
   "outputs": [
    {
     "data": {
      "text/html": [
       "<div>\n",
       "<style scoped>\n",
       "    .dataframe tbody tr th:only-of-type {\n",
       "        vertical-align: middle;\n",
       "    }\n",
       "\n",
       "    .dataframe tbody tr th {\n",
       "        vertical-align: top;\n",
       "    }\n",
       "\n",
       "    .dataframe thead th {\n",
       "        text-align: right;\n",
       "    }\n",
       "</style>\n",
       "<table border=\"1\" class=\"dataframe\">\n",
       "  <thead>\n",
       "    <tr style=\"text-align: right;\">\n",
       "      <th></th>\n",
       "      <th>0</th>\n",
       "    </tr>\n",
       "  </thead>\n",
       "  <tbody>\n",
       "    <tr>\n",
       "      <th>2000-01-31 00:00:00</th>\n",
       "      <td>1.243951</td>\n",
       "    </tr>\n",
       "    <tr>\n",
       "      <th>2000-02-29 00:00:00</th>\n",
       "      <td>1.155894</td>\n",
       "    </tr>\n",
       "    <tr>\n",
       "      <th>2000-03-31 00:00:00</th>\n",
       "      <td>1.238501</td>\n",
       "    </tr>\n",
       "    <tr>\n",
       "      <th>2000-04-28 00:00:00</th>\n",
       "      <td>1.234853</td>\n",
       "    </tr>\n",
       "    <tr>\n",
       "      <th>2000-05-31 00:00:00</th>\n",
       "      <td>1.122355</td>\n",
       "    </tr>\n",
       "    <tr>\n",
       "      <th>...</th>\n",
       "      <td>...</td>\n",
       "    </tr>\n",
       "    <tr>\n",
       "      <th>2021-08-31 00:00:00</th>\n",
       "      <td>0.516960</td>\n",
       "    </tr>\n",
       "    <tr>\n",
       "      <th>2021-09-30 00:00:00</th>\n",
       "      <td>0.520213</td>\n",
       "    </tr>\n",
       "    <tr>\n",
       "      <th>2021-10-29 00:00:00</th>\n",
       "      <td>0.520876</td>\n",
       "    </tr>\n",
       "    <tr>\n",
       "      <th>2021-11-30 00:00:00</th>\n",
       "      <td>0.542254</td>\n",
       "    </tr>\n",
       "    <tr>\n",
       "      <th>2021-12-31 00:00:00</th>\n",
       "      <td>0.410147</td>\n",
       "    </tr>\n",
       "  </tbody>\n",
       "</table>\n",
       "<p>264 rows × 1 columns</p>\n",
       "</div>"
      ],
      "text/plain": [
       "                            0\n",
       "2000-01-31 00:00:00  1.243951\n",
       "2000-02-29 00:00:00  1.155894\n",
       "2000-03-31 00:00:00  1.238501\n",
       "2000-04-28 00:00:00  1.234853\n",
       "2000-05-31 00:00:00  1.122355\n",
       "...                       ...\n",
       "2021-08-31 00:00:00  0.516960\n",
       "2021-09-30 00:00:00  0.520213\n",
       "2021-10-29 00:00:00  0.520876\n",
       "2021-11-30 00:00:00  0.542254\n",
       "2021-12-31 00:00:00  0.410147\n",
       "\n",
       "[264 rows x 1 columns]"
      ]
     },
     "execution_count": 27,
     "metadata": {},
     "output_type": "execute_result"
    }
   ],
   "source": [
    "permno_beta_dict[87055]"
   ]
  },
  {
   "cell_type": "code",
   "execution_count": null,
   "id": "17bb6f2e-25ce-4d3f-b7fc-5cbd3f06853d",
   "metadata": {},
   "outputs": [],
   "source": []
  }
 ],
 "metadata": {
  "kernelspec": {
   "display_name": "Python 3 (ipykernel)",
   "language": "python",
   "name": "python3"
  },
  "language_info": {
   "codemirror_mode": {
    "name": "ipython",
    "version": 3
   },
   "file_extension": ".py",
   "mimetype": "text/x-python",
   "name": "python",
   "nbconvert_exporter": "python",
   "pygments_lexer": "ipython3",
   "version": "3.8.18"
  }
 },
 "nbformat": 4,
 "nbformat_minor": 5
}
